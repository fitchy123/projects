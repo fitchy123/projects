{
  "nbformat": 4,
  "nbformat_minor": 0,
  "metadata": {
    "colab": {
      "name": "covid_detector_v3(NN).ipynb",
      "provenance": [],
      "collapsed_sections": []
    },
    "kernelspec": {
      "name": "python3",
      "display_name": "Python 3"
    },
    "language_info": {
      "name": "python"
    }
  },
  "cells": [
    {
      "cell_type": "code",
      "metadata": {
        "id": "gCyvDLxxeeaJ"
      },
      "source": [
        "#####Version 3, this time we are going to attempt to build a neural net to tackle our problem, after the failure of SGD :(\n",
        "#####We will still include the baseline model for reference\n",
        "!pip install -Uqq fastbook\n",
        "from fastbook import *\n",
        "from fastai.vision.all import *\n",
        "matplotlib.rc(\"image\", cmap=\"Greys\")"
      ],
      "execution_count": null,
      "outputs": []
    },
    {
      "cell_type": "code",
      "metadata": {
        "colab": {
          "base_uri": "https://localhost:8080/"
        },
        "id": "_nSTjFVIkZdv",
        "outputId": "e4c5c249-c90b-41b6-8c4e-cb5948a8578d"
      },
      "source": [
        "from google.colab import drive\n",
        "#mount content from my drive\n",
        "drive.mount(\"/content/josh_drive\")"
      ],
      "execution_count": null,
      "outputs": [
        {
          "output_type": "stream",
          "name": "stdout",
          "text": [
            "Mounted at /content/josh_drive\n"
          ]
        }
      ]
    },
    {
      "cell_type": "code",
      "metadata": {
        "id": "P7tv5tlJkecV"
      },
      "source": [
        "import zipfile\n",
        "import os\n",
        "import shutil\n",
        "#unzip data in tmp folder\n",
        "f_path = Path(\"/content/josh_drive/MyDrive/Colab Notebooks/My experiments/COVID-19_Radiography_Database.zip\")\n",
        "zip_file = zipfile.ZipFile(f_path, \"r\")\n",
        "zip_file.extractall(\"/tmp\")\n",
        "zip_file.close()"
      ],
      "execution_count": null,
      "outputs": []
    },
    {
      "cell_type": "code",
      "metadata": {
        "colab": {
          "base_uri": "https://localhost:8080/"
        },
        "id": "ZUH0mBDvksju",
        "outputId": "397a6d8c-6ad2-4587-d3da-ebd8aab865c5"
      },
      "source": [
        "#set image path\n",
        "image_path = Path(\"/tmp/COVID-19_Radiography_Dataset/\")\n",
        "#print total number images\n",
        "all_images = get_image_files(image_path)\n",
        "print(len(all_images))"
      ],
      "execution_count": null,
      "outputs": [
        {
          "output_type": "stream",
          "name": "stdout",
          "text": [
            "21165\n"
          ]
        }
      ]
    },
    {
      "cell_type": "code",
      "metadata": {
        "colab": {
          "base_uri": "https://localhost:8080/"
        },
        "id": "mqPjDVAgk3lv",
        "outputId": "53e589a1-209c-4577-9f71-a97073a6a504"
      },
      "source": [
        "#make directories for sample dataset with just COVID and normal images\n",
        "os.mkdir(image_path/\"Sample\")\n",
        "s_image_path = image_path/\"Sample\"\n",
        "os.mkdir(s_image_path/\"Normal\"), os.mkdir(s_image_path/\"Normal\"/\"Train\"), os.mkdir(s_image_path/\"Normal\"/\"Valid\")\n",
        "os.mkdir(s_image_path/\"COVID\"), os.mkdir(s_image_path/\"COVID\"/\"Train\"), os.mkdir(s_image_path/\"COVID\"/\"Valid\")\n",
        "Normal_images, COVID_images = get_image_files(image_path/\"Normal\"), get_image_files(image_path/\"COVID\")\n",
        "print(len(Normal_images), \" ||| \", len(COVID_images))"
      ],
      "execution_count": null,
      "outputs": [
        {
          "output_type": "stream",
          "name": "stdout",
          "text": [
            "10192  |||  3616\n"
          ]
        }
      ]
    },
    {
      "cell_type": "code",
      "metadata": {
        "id": "NZsjPpkuwLRE"
      },
      "source": [
        "#move images to create sample dataset with train and valid sets\n",
        "sample_pct = 0.1\n",
        "random.seed(0)\n",
        "normal_sample = random.sample(Normal_images, int(len(Normal_images) * sample_pct))\n",
        "covid_sample = random.sample(COVID_images, len(normal_sample)) #this number gives a balanced dataset\n",
        "#initially move all sample images to train folder\n",
        "for normal_img in normal_sample:\n",
        "    shutil.copy(normal_img, s_image_path/\"Normal\"/\"Train\"/normal_img.name)\n",
        "for covid_img in covid_sample:\n",
        "    shutil.copy(covid_img, s_image_path/\"COVID\"/\"Train\"/covid_img.name)\n",
        "normal_sample, covid_sample = get_image_files(s_image_path/\"Normal\"/\"Train\"), get_image_files(s_image_path/\"COVID\"/\"Train\")"
      ],
      "execution_count": null,
      "outputs": []
    },
    {
      "cell_type": "code",
      "metadata": {
        "id": "azSICj7xx5OF"
      },
      "source": [
        "#then sample from train folder to get validation set\n",
        "valid_pct = 0.2\n",
        "normal_valid = random.sample(normal_sample, int(len(normal_sample) * valid_pct))\n",
        "covid_valid = random.sample(covid_sample, int(len(covid_sample) * valid_pct))\n",
        "for valid_normal_img in normal_valid:\n",
        "    shutil.move(valid_normal_img, s_image_path/\"Normal\"/\"Valid\"/valid_normal_img.name)\n",
        "    #valid_normal_img.rename(s_image_path/\"Normal\"/\"Valid\"/valid_normal_img.name)\n",
        "for valid_covid_img in covid_valid:\n",
        "    shutil.move(valid_covid_img, s_image_path/\"COVID\"/\"Valid\"/valid_covid_img.name)\n",
        "    #valid_covid_img.rename(s_image_path/\"COVID\"/\"Valid\"/valid_covid_img.name)"
      ],
      "execution_count": null,
      "outputs": []
    },
    {
      "cell_type": "code",
      "metadata": {
        "colab": {
          "base_uri": "https://localhost:8080/"
        },
        "id": "WQtY1-NM2i2m",
        "outputId": "242a17cc-436a-473f-8e01-8c4787951de3"
      },
      "source": [
        "normal_train, normal_valid = get_image_files(s_image_path/\"Normal\"/\"Train\"), get_image_files(s_image_path/\"Normal\"/\"Valid\")\n",
        "covid_train, covid_valid = get_image_files(s_image_path/\"COVID\"/\"Train\"), get_image_files(s_image_path/\"COVID\"/\"Valid\")\n",
        "print(\"Normal train and valid: \", len(normal_train), \" ||| \", len(normal_valid))\n",
        "print(\"COVID train and valid: \", len(covid_train), \" ||| \", len(covid_valid))"
      ],
      "execution_count": null,
      "outputs": [
        {
          "output_type": "stream",
          "name": "stdout",
          "text": [
            "Normal train and valid:  408  |||  101\n",
            "COVID train and valid:  408  |||  101\n"
          ]
        }
      ]
    },
    {
      "cell_type": "code",
      "metadata": {
        "colab": {
          "base_uri": "https://localhost:8080/",
          "height": 142
        },
        "id": "7iRNxpw8Ealp",
        "outputId": "721ff065-8eef-4cd7-8429-6cdaf9499e43"
      },
      "source": [
        "test_image = Image.open(normal_train[0])\n",
        "test_image.to_thumb(125,125)"
      ],
      "execution_count": null,
      "outputs": [
        {
          "output_type": "execute_result",
          "data": {
            "image/png": "[encoded data removed]",
            "text/plain": [
              "<PIL.Image.Image image mode=L size=125x125 at 0x7F80D816DA50>"
            ]
          },
          "metadata": {},
          "execution_count": 10
        }
      ]
    },
    {
      "cell_type": "code",
      "metadata": {
        "colab": {
          "base_uri": "https://localhost:8080/"
        },
        "id": "-_-1yTxnEnp-",
        "outputId": "7877ba45-8bab-4ac2-873f-a75dd0884c54"
      },
      "source": [
        "#create lists of opened images stored as tensors\n",
        "normal_train_tensors = [tensor(Image.open(img)) for img in normal_train]\n",
        "normal_valid_tensors = [tensor(Image.open(img)) for img in normal_valid]\n",
        "covid_train_tensors = [tensor(Image.open(img)) for img in covid_train]\n",
        "covid_valid_tensors = [tensor(Image.open(img)) for img in covid_valid]\n",
        "#stack these tensors into singular 3 dim tensors\n",
        "stacked_normal_train  = torch.stack(normal_train_tensors).float()/255\n",
        "stacked_normal_valid = torch.stack(normal_valid_tensors).float()/255\n",
        "stacked_covid_train = torch.stack(covid_train_tensors).float()/255\n",
        "stacked_covid_valid = torch.stack(covid_valid_tensors).float()/255\n",
        "print(stacked_normal_train.shape, stacked_normal_valid.shape)"
      ],
      "execution_count": null,
      "outputs": [
        {
          "output_type": "stream",
          "name": "stdout",
          "text": [
            "torch.Size([408, 299, 299]) torch.Size([101, 299, 299])\n"
          ]
        }
      ]
    },
    {
      "cell_type": "code",
      "metadata": {
        "colab": {
          "base_uri": "https://localhost:8080/",
          "height": 388
        },
        "id": "cfesRqQgFgPi",
        "outputId": "a82886a6-f619-41a4-8e9e-57ac8a89a0b5"
      },
      "source": [
        "###Baseline \"pixel similarity\" model using average pixel values\n",
        "#calculate mean of normal/covid images by taking mean over dimension 0 of our stack, this gives us a 2d tensor of averages for each pixel\n",
        "mean_normal_train = stacked_normal_train.mean(0)\n",
        "mean_covid_train = stacked_covid_train.mean(0)\n",
        "show_image(mean_normal_train, figsize=(3,3)) #special fastai function for showing images from tensors\n",
        "show_image(mean_covid_train, figsize=(3,3))\n",
        "print(mean_normal_train.shape)"
      ],
      "execution_count": null,
      "outputs": [
        {
          "output_type": "stream",
          "name": "stdout",
          "text": [
            "torch.Size([299, 299])\n"
          ]
        },
        {
          "output_type": "display_data",
          "data": {
            "image/png": "[encoded data removed]",
            "text/plain": [
              "<Figure size 216x216 with 1 Axes>"
            ]
          },
          "metadata": {
            "needs_background": "light"
          }
        },
        {
          "output_type": "display_data",
          "data": {
            "image/png": "[encoded data removed]",
            "text/plain": [
              "<Figure size 216x216 with 1 Axes>"
            ]
          },
          "metadata": {
            "needs_background": "light"
          }
        }
      ]
    },
    {
      "cell_type": "code",
      "metadata": {
        "colab": {
          "base_uri": "https://localhost:8080/"
        },
        "id": "tE7_f788ISXh",
        "outputId": "2c14a22b-e194-4f43-94a4-2922ccc609a3"
      },
      "source": [
        "#if an image is closer to mean covid image it is covid, if not it is normal\n",
        "#how close an image is defined by L1 norm (mean absolute error). Average of the difference to the mean image at each pixel value\n",
        "def L1_norm(a, b):\n",
        "    return (a-b).abs().mean((-1,-2)) #take mean ranging over values indexed by last two axis of tensor(horizontal/vertical image dimensions)\n",
        "def Is_COVID(tnsor):\n",
        "    return L1_norm(tnsor, mean_normal_train) > L1_norm(tnsor, mean_covid_train)\n",
        "L1_norm(stacked_normal_train[0], mean_normal_train), L1_norm(stacked_normal_train[0], mean_covid_train), Is_COVID(stacked_normal_train[0])"
      ],
      "execution_count": null,
      "outputs": [
        {
          "output_type": "execute_result",
          "data": {
            "text/plain": [
              "(tensor(0.1756), tensor(0.1682), tensor(True))"
            ]
          },
          "metadata": {},
          "execution_count": 26
        }
      ]
    },
    {
      "cell_type": "code",
      "metadata": {
        "colab": {
          "base_uri": "https://localhost:8080/"
        },
        "id": "wohTnfCAMTVy",
        "outputId": "a0e5e6d5-c922-441c-aa9e-a3c3e5f58b57"
      },
      "source": [
        "#due to casting we can apply Is_COVID to many tensors at once and calculate the accuracy (our chosen metric) of our baseline model\n",
        "inv_accuracy_Normal = Is_COVID(stacked_normal_valid).float().mean()\n",
        "accuracy_COVID = Is_COVID(stacked_covid_valid).float().mean()\n",
        "correct = torch.unique(Is_COVID(stacked_normal_valid), return_counts=True)[1][0]\n",
        "correct += torch.unique(Is_COVID(stacked_covid_valid), return_counts=True)[1][1]\n",
        "base_accuracy = correct / (stacked_normal_valid.shape[0] + stacked_covid_valid.shape[0])\n",
        "print(f\"Normal accuracy: {1 - inv_accuracy_Normal}      COVID accuracy: {accuracy_COVID}\")\n",
        "print(\"Overall accuracy: \", base_accuracy.item()) #.item() can convert a 1 element tensor to just its value"
      ],
      "execution_count": null,
      "outputs": [
        {
          "output_type": "stream",
          "name": "stdout",
          "text": [
            "Normal accuracy: 0.7623762488365173      COVID accuracy: 0.6732673048973083\n",
            "Overall accuracy:  0.7178217768669128\n"
          ]
        }
      ]
    },
    {
      "cell_type": "code",
      "metadata": {
        "colab": {
          "base_uri": "https://localhost:8080/"
        },
        "id": "eZmuqIFzNk76",
        "outputId": "53d9ee14-8d7c-489d-c128-2d810331076f"
      },
      "source": [
        "###Neural net\n",
        "#place images into single tensor, also convert images to 1D arrays for simplicity\n",
        "#view changes tensor shape but not data, -1 argument infers the size of that dimension from 299*299 to give 552 vectors\n",
        "img_dims = (stacked_normal_train[0].shape[0], stacked_normal_train[0].shape[1])\n",
        "train_x = torch.cat([stacked_normal_train, stacked_covid_train]).view(-1, img_dims[0]*img_dims[1])\n",
        "valid_x = torch.cat([stacked_normal_valid, stacked_covid_valid]).view(-1, img_dims[0]*img_dims[1])\n",
        "print(stacked_normal_train.shape, stacked_covid_train.shape, train_x.shape, valid_x.shape)"
      ],
      "execution_count": null,
      "outputs": [
        {
          "output_type": "stream",
          "name": "stdout",
          "text": [
            "torch.Size([408, 299, 299]) torch.Size([408, 299, 299]) torch.Size([816, 89401]) torch.Size([202, 89401])\n"
          ]
        }
      ]
    },
    {
      "cell_type": "code",
      "metadata": {
        "colab": {
          "base_uri": "https://localhost:8080/"
        },
        "id": "MK7X3gddRjmN",
        "outputId": "850f125b-833a-42ca-84be-93260ecf2637"
      },
      "source": [
        "train_y = tensor([0]*len(stacked_normal_train) + [1]*len(stacked_covid_train))\n",
        "valid_y = tensor([0]*len(stacked_normal_valid) + [1]*len(stacked_covid_valid))\n",
        "print(train_y.shape, valid_y.shape)\n",
        "#train_y = train_y.unsqueeze(1) #unsqueeze changes shape from [816]->[816, 1] (vector to single column), needed for valid matrix multiplication\n",
        "#print(train_y.shape)"
      ],
      "execution_count": null,
      "outputs": [
        {
          "output_type": "stream",
          "name": "stdout",
          "text": [
            "torch.Size([816]) torch.Size([202])\n"
          ]
        }
      ]
    },
    {
      "cell_type": "code",
      "metadata": {
        "colab": {
          "base_uri": "https://localhost:8080/"
        },
        "id": "YrTiPzjyO1b_",
        "outputId": "55164c54-f199-4f19-ad35-9c8136b0bc6b"
      },
      "source": [
        "#create a dataset\n",
        "train_dataset = list(zip(train_x, train_y))\n",
        "valid_dataset = list(zip(valid_x, valid_y))\n",
        "x,y = train_dataset[0]\n",
        "len(train_dataset), x.shape, y    #each entry in dataset contains an image and a label"
      ],
      "execution_count": null,
      "outputs": [
        {
          "output_type": "execute_result",
          "data": {
            "text/plain": [
              "(816, torch.Size([89401]), tensor(0))"
            ]
          },
          "metadata": {},
          "execution_count": 46
        }
      ]
    },
    {
      "cell_type": "code",
      "metadata": {
        "colab": {
          "base_uri": "https://localhost:8080/"
        },
        "id": "oTVb20B5St8c",
        "outputId": "d415c2a2-8984-4e77-8d9b-6e37cfd21401"
      },
      "source": [
        "#create dataloaders for shuffling and minibatch collation from the dataset\n",
        "set_seed(0, reproducible=True)\n",
        "train_dataloader = DataLoader(dataset=train_dataset, batch_size=64, shuffle=True)\n",
        "valid_dataloader = DataLoader(dataset=valid_dataset, batch_size=64, shuffle=True)\n",
        "x,y = first(train_dataloader) #first used as dataloaders used for iterating not random access (so have no __getitem__ method)\n",
        "len(train_dataloader), x.shape, y.shape #first element of dataloader contains 64 images and 64 corresponding labels, taken randomly"
      ],
      "execution_count": null,
      "outputs": [
        {
          "output_type": "execute_result",
          "data": {
            "text/plain": [
              "(13, torch.Size([64, 89401]), torch.Size([64]))"
            ]
          },
          "metadata": {},
          "execution_count": 49
        }
      ]
    }
  ]
}
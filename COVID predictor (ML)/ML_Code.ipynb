{
 "cells": [
  {
   "cell_type": "code",
   "execution_count": 1,
   "id": "5d890490",
   "metadata": {},
   "outputs": [],
   "source": [
    "###Made in python 3.9.4, using pandas, numpy, scikit-learn, matplotlib, missingno and seaborn\n",
    "#unzip/open file and import some important libraries\n",
    "import tarfile\n",
    "import os.path\n",
    "import pandas as pd\n",
    "import numpy as np\n",
    "import matplotlib.pyplot as plt\n",
    "%matplotlib inline\n",
    "\n",
    "if os.path.isfile(\"latestdata.csv\"):\n",
    "    covid_df = pd.read_csv(\"latestdata.csv\", low_memory=False)\n",
    "elif os.path.isfile(\"latestdata.tar.gz\"):\n",
    "    file = tarfile.open(\"latestdata.tar.gz\")\n",
    "    file.extractall()\n",
    "    file.close()\n",
    "    covid_df = pd.read_csv(\"latestdata.csv\", low_memory=False)\n",
    "else:\n",
    "    print(\"Cannot find file\")\n",
    "    exit()"
   ]
  },
  {
   "cell_type": "code",
   "execution_count": 2,
   "id": "c40db35b",
   "metadata": {},
   "outputs": [
    {
     "name": "stdout",
     "output_type": "stream",
     "text": [
      "(2676311, 33)\n",
      "307382\n"
     ]
    }
   ],
   "source": [
    "print(covid_df.shape)\n",
    "print(covid_df[\"outcome\"].count())"
   ]
  },
  {
   "cell_type": "code",
   "execution_count": 3,
   "id": "4ff69279",
   "metadata": {},
   "outputs": [
    {
     "name": "stdout",
     "output_type": "stream",
     "text": [
      "(307382, 33)\n"
     ]
    }
   ],
   "source": [
    "#drop all rows without a value for outcome\n",
    "labelled_df = covid_df.copy()\n",
    "labelled_df.dropna(subset=[\"outcome\"], inplace=True)\n",
    "print(labelled_df.shape)"
   ]
  },
  {
   "cell_type": "code",
   "execution_count": 4,
   "id": "2666acb4",
   "metadata": {},
   "outputs": [
    {
     "name": "stdout",
     "output_type": "stream",
     "text": [
      "1.0    97933\n",
      "0.0     5999\n",
      "Name: outcome, dtype: int64\n"
     ]
    }
   ],
   "source": [
    "#convert outcome to 0- deceased or 1- recovered/discharged/stable\n",
    "labelled_df[\"outcome\"].replace([\"Recovered\", \"recovered\", \"discharge\", \"stable\", \"stable condition\", \"discharged\", \"Stable\",\n",
    "                   \"Discharged from hospital\", \"Discharged\"], 1, inplace=True)\n",
    "labelled_df[\"outcome\"].replace([\"Deceased\", \"died\", \"death\", \"Dead\", \"Death\", \"Died\", \"dead\"], 0, inplace=True)\n",
    "\n",
    "#if we cannot be sure of outcome from entry convert to np.nan then drop\n",
    "labelled_df[\"outcome\"].replace(to_replace=r\"[^0-1]\", value=np.nan, regex=True, inplace=True)\n",
    "labelled_df.dropna(subset=[\"outcome\"], inplace=True)\n",
    "\n",
    "print(labelled_df[\"outcome\"].value_counts())"
   ]
  },
  {
   "cell_type": "code",
   "execution_count": 5,
   "id": "b561a5c9",
   "metadata": {
    "scrolled": true
   },
   "outputs": [
    {
     "name": "stdout",
     "output_type": "stream",
     "text": [
      "Index(['age', 'sex', 'city', 'province', 'country', 'latitude', 'longitude',\n",
      "       'geo_resolution', 'date_onset_symptoms', 'date_admission_hospital',\n",
      "       'date_confirmation', 'symptoms', 'lives_in_Wuhan',\n",
      "       'travel_history_dates', 'travel_history_location',\n",
      "       'reported_market_exposure', 'chronic_disease_binary', 'chronic_disease',\n",
      "       'outcome', 'date_death_or_discharge', 'location', 'admin3', 'admin2',\n",
      "       'admin1', 'country_new', 'travel_history_binary'],\n",
      "      dtype='object')\n"
     ]
    }
   ],
   "source": [
    "#drop data elements that are deemed useless \n",
    "labelled_df.drop([\"ID\", \"admin_id\", \"data_moderator_initials\", \"source\", \"sequence_available\",\n",
    "                 \"additional_information\", \"notes_for_discussion\"], axis=1, inplace=True)\n",
    "print(labelled_df.columns)"
   ]
  },
  {
   "cell_type": "code",
   "execution_count": 6,
   "id": "7f54172e",
   "metadata": {},
   "outputs": [],
   "source": [
    "#create dataframe of numeric features and binary categoric variables that can be converted to numeric features easily\n",
    "numeric_df = labelled_df[[\"age\", \"sex\", \"lives_in_Wuhan\", \"travel_history_binary\", \"reported_market_exposure\", \n",
    "                          \"chronic_disease_binary\", \"date_death_or_discharge\", \"date_onset_symptoms\", \n",
    "                          \"date_admission_hospital\", \"date_confirmation\", \"travel_history_dates\", \"outcome\"]].copy()"
   ]
  },
  {
   "cell_type": "code",
   "execution_count": 7,
   "id": "76f6f40e",
   "metadata": {},
   "outputs": [],
   "source": [
    "#convert binary categorical features to numeric features with 0's and 1's, e.g. sex and chronic_disease_binary\n",
    "numeric_df = numeric_df.replace(\"male\", 1)\n",
    "numeric_df = numeric_df.replace(\"female\", 0)\n",
    "numeric_df = numeric_df.replace(\"no\", 0)\n",
    "numeric_df = numeric_df.replace(\"yes\", 1)\n",
    "numeric_df = numeric_df.replace(False, 0)\n",
    "numeric_df = numeric_df.replace(True, 1)\n",
    "numeric_df = numeric_df.replace(\"na\", np.nan)\n",
    "numeric_df = numeric_df.replace([\"contact with a positive case\", \"yes, retailer in the seafood wholesale market\"], 1)\n",
    "\n",
    "#function to convert age to integers and take average when a range is given\n",
    "def f_age(row):\n",
    "    row_age = row[\"age\"]\n",
    "    if isinstance(row_age, float):\n",
    "        return row_age\n",
    "    elif \"weeks\" in row_age:\n",
    "        return 0 \n",
    "    elif row_age[-1] == \"-\" or row_age[-1] == \"+\":\n",
    "        row_age = row_age[:-1]\n",
    "    elif \"month\" in row_age:\n",
    "            mon_age = int(row_age[:2])\n",
    "            return int((mon_age / 12))\n",
    "    elif len(row_age) > 2 and \".\" not in row_age:\n",
    "        if \"-\" in row_age:\n",
    "            age_list = row_age.split(\"-\")\n",
    "            age1 = int(age_list[0])\n",
    "            age2 = int(age_list[1])\n",
    "            avg_age = (age1 + age2) / 2\n",
    "            return int(avg_age)\n",
    "        else:\n",
    "            return int(row_age)\n",
    "    else: \n",
    "        if \".\" in row_age:\n",
    "            fl = float(row_age)\n",
    "            return int(fl)\n",
    "        else:\n",
    "            return int(row_age)\n",
    "        \n",
    "#clean up age\n",
    "fun = lambda row: f_age(row)\n",
    "col = numeric_df.apply(fun, axis=1)\n",
    "numeric_df = numeric_df.assign(age=col.values)"
   ]
  },
  {
   "cell_type": "code",
   "execution_count": 8,
   "id": "2ff63feb",
   "metadata": {},
   "outputs": [
    {
     "name": "stdout",
     "output_type": "stream",
     "text": [
      "<class 'pandas.core.frame.DataFrame'>\n",
      "Int64Index: 103932 entries, 1 to 673607\n",
      "Data columns (total 12 columns):\n",
      " #   Column                    Non-Null Count   Dtype  \n",
      "---  ------                    --------------   -----  \n",
      " 0   age                       5762 non-null    float64\n",
      " 1   sex                       6906 non-null    float64\n",
      " 2   lives_in_Wuhan            172 non-null     float64\n",
      " 3   travel_history_binary     103616 non-null  float64\n",
      " 4   reported_market_exposure  12 non-null      float64\n",
      " 5   chronic_disease_binary    103932 non-null  int64  \n",
      " 6   date_death_or_discharge   1190 non-null    object \n",
      " 7   date_onset_symptoms       3529 non-null    object \n",
      " 8   date_admission_hospital   295 non-null     object \n",
      " 9   date_confirmation         103861 non-null  object \n",
      " 10  travel_history_dates      196 non-null     object \n",
      " 11  outcome                   103932 non-null  float64\n",
      "dtypes: float64(6), int64(1), object(5)\n",
      "memory usage: 10.3+ MB\n",
      "None\n"
     ]
    }
   ],
   "source": [
    "print(numeric_df.info())"
   ]
  },
  {
   "cell_type": "code",
   "execution_count": 9,
   "id": "bedd36d2",
   "metadata": {},
   "outputs": [
    {
     "name": "stdout",
     "output_type": "stream",
     "text": [
      "Number of missing values: \n",
      "reported_market_exposure    103920\n",
      "lives_in_Wuhan              103760\n",
      "travel_history_dates        103736\n",
      "date_admission_hospital     103637\n",
      "date_death_or_discharge     102742\n",
      "date_onset_symptoms         100403\n",
      "age                          98170\n",
      "sex                          97026\n",
      "travel_history_binary          316\n",
      "date_confirmation               71\n",
      "chronic_disease_binary           0\n",
      "outcome                          0\n",
      "dtype: int64\n",
      "missing value correlation heatmap\n",
      "visualisation of missing values for first 500 rows of dataset: \n"
     ]
    },
    {
     "data": {
      "text/plain": [
       "<AxesSubplot:>"
      ]
     },
     "execution_count": 9,
     "metadata": {},
     "output_type": "execute_result"
    },
    {
     "data": {
      "image/png": "[encoded data removed]",
      "text/plain": [
       "<Figure size 432x216 with 2 Axes>"
      ]
     },
     "metadata": {
      "needs_background": "light"
     },
     "output_type": "display_data"
    },
    {
     "data": {
      "image/png": "[encoded data removed]",
      "text/plain": [
       "<Figure size 1800x720 with 2 Axes>"
      ]
     },
     "metadata": {
      "needs_background": "light"
     },
     "output_type": "display_data"
    }
   ],
   "source": [
    "#investigate/visualize missing values for selected numerical features\n",
    "import missingno as msno\n",
    "missing_df = numeric_df.copy()\n",
    "#reset indexes to help see patterns\n",
    "missing_df.index = np.arange(len(missing_df))\n",
    "\n",
    "#print number missing values in samples\n",
    "print(\"Number of missing values: \")\n",
    "print(missing_df.isnull().sum().sort_values(ascending=False))\n",
    "\n",
    "#visualize correlation of missing values\n",
    "print(\"missing value correlation heatmap\")\n",
    "msno.heatmap(missing_df, figsize=(6,3))\n",
    "\n",
    "#visualise sample missing values\n",
    "print(\"visualisation of missing values for first 500 rows of dataset: \")\n",
    "msno.matrix(numeric_df.iloc[0:500][:])"
   ]
  },
  {
   "cell_type": "code",
   "execution_count": 10,
   "id": "650d7d85",
   "metadata": {
    "scrolled": true
   },
   "outputs": [
    {
     "name": "stdout",
     "output_type": "stream",
     "text": [
      "example rows before imputation: \n",
      "       age  sex  lives_in_Wuhan  travel_history_binary\n",
      "1779   NaN  NaN             NaN                    NaN\n",
      "1890  58.0  0.0             0.0                    NaN    ...\n",
      "example rows after imputation (except age/sex): \n",
      "       age  sex  lives_in_Wuhan  travel_history_binary\n",
      "1779   NaN  NaN             0.0                    0.0\n",
      "1890  58.0  0.0             0.0                    0.0    ...\n"
     ]
    }
   ],
   "source": [
    "#imputing missing values except age and sex\n",
    "from sklearn.impute import SimpleImputer\n",
    "\n",
    "#show some missing values\n",
    "print(\"example rows before imputation: \")\n",
    "print(numeric_df.iloc[18:20, :4], \"   ...\")\n",
    "\n",
    "#impute other missing values using mode strategy\n",
    "my_other_imputer = SimpleImputer(missing_values=np.nan, strategy=\"most_frequent\")\n",
    "numeric_df[\"date_confirmation\"] = my_other_imputer.fit_transform(numeric_df[[\"date_confirmation\"]]).ravel()\n",
    "numeric_df[\"date_admission_hospital\"] = my_other_imputer.fit_transform(numeric_df[[\"date_admission_hospital\"]]).ravel()\n",
    "numeric_df[\"date_onset_symptoms\"] = my_other_imputer.fit_transform(numeric_df[[\"date_onset_symptoms\"]]).ravel()\n",
    "numeric_df[\"date_death_or_discharge\"] = my_other_imputer.fit_transform(numeric_df[[\"date_death_or_discharge\"]]).ravel()\n",
    "numeric_df[\"travel_history_dates\"] = my_other_imputer.fit_transform(numeric_df[[\"travel_history_dates\"]]).ravel()\n",
    "#impute other values with 0's\n",
    "numeric_df[\"travel_history_binary\"].fillna(0, inplace = True)\n",
    "numeric_df[\"chronic_disease_binary\"].fillna(0, inplace = True)\n",
    "numeric_df[\"lives_in_Wuhan\"].fillna(0, inplace = True)\n",
    "numeric_df[\"reported_market_exposure\"].fillna(0, inplace = True)\n",
    "\n",
    "print(\"example rows after imputation (except age/sex): \")\n",
    "print(numeric_df.iloc[18:20, :4], \"   ...\")"
   ]
  },
  {
   "cell_type": "code",
   "execution_count": 11,
   "id": "ac988dad",
   "metadata": {},
   "outputs": [],
   "source": [
    "#create random forest model to predict missing values for sex\n",
    "from sklearn.ensemble import RandomForestRegressor\n",
    "\n",
    "#use numeric features and location information to help predict\n",
    "df_comp = numeric_df.drop([\"date_death_or_discharge\", \"date_onset_symptoms\", \"date_admission_hospital\", \n",
    "                           \"date_confirmation\", \"travel_history_dates\", \"outcome\", \"age\"], axis=1).copy()\n",
    "df_comp[[\"country\", \"city\", \"province\"]] = labelled_df[[\"country\", \"city\", \"province\"]]\n",
    "df_comp = pd.get_dummies(df_comp)\n",
    "\n",
    "#create dataframe with and without sex\n",
    "df_sex = df_comp[pd.isnull(df_comp['sex']) == False].copy()\n",
    "df_sex_dropped = df_sex.drop([\"sex\"], axis=1)\n",
    "\n",
    "df_sex_null = df_comp[pd.isnull(df_comp['sex']) == True].copy()\n",
    "df_sex_null_dropped = df_sex_null.drop([\"sex\"], axis=1)\n",
    "\n",
    "#random forest regressor\n",
    "rf_predictor = RandomForestRegressor()\n",
    "rf_predictor.fit(df_sex_dropped, df_sex[\"sex\"])\n",
    "sex_imputes = rf_predictor.predict(X = df_sex_null_dropped)\n",
    "\n",
    "#put imputed values into main df\n",
    "df_sex_null_dropped[\"sex\"] = sex_imputes\n",
    "df_imputed_sex = df_sex.append(df_sex_null_dropped)\n",
    "numeric_df[\"sex\"] = df_imputed_sex[\"sex\"]"
   ]
  },
  {
   "cell_type": "code",
   "execution_count": 12,
   "id": "55983aa2",
   "metadata": {},
   "outputs": [
    {
     "name": "stdout",
     "output_type": "stream",
     "text": [
      "example rows after full imputation: \n",
      "            age       sex  lives_in_Wuhan  travel_history_binary\n",
      "1779  56.473705  0.930667             0.0                    0.0\n",
      "1890  58.000000  0.000000             0.0                    0.0    ...\n"
     ]
    }
   ],
   "source": [
    "#create random forest model to predict missing value for age\n",
    "#use numeric features and location information to help predict\n",
    "df_comp = numeric_df.drop([\"date_death_or_discharge\", \"date_onset_symptoms\", \"date_admission_hospital\", \n",
    "                           \"date_confirmation\", \"travel_history_dates\", \"outcome\"], axis=1).copy()\n",
    "df_comp[[\"country\", \"city\", \"province\"]] = labelled_df[[\"country\", \"city\", \"province\"]]\n",
    "df_comp = pd.get_dummies(df_comp)\n",
    "\n",
    "#create df with and without age\n",
    "df_age = df_comp[pd.isnull(df_comp['age']) == False].copy()\n",
    "df_age_dropped = df_age.drop([\"age\"], axis=1)\n",
    "\n",
    "df_age_null = df_comp[pd.isnull(df_comp['age']) == True].copy()\n",
    "df_age_null_dropped = df_age_null.drop([\"age\"], axis=1)\n",
    "\n",
    "#random forest regressor\n",
    "rf_predictor = RandomForestRegressor()\n",
    "rf_predictor.fit(df_age_dropped, df_age[\"age\"])\n",
    "age_imputes = rf_predictor.predict(X = df_age_null_dropped)\n",
    "\n",
    "#add imputed values back into original df\n",
    "df_age_null_dropped[\"age\"] = age_imputes\n",
    "df_imputed_age = df_age.append(df_age_null_dropped)\n",
    "numeric_df[\"age\"] = df_imputed_age[\"age\"]\n",
    "\n",
    "print(\"example rows after full imputation: \")\n",
    "print(numeric_df.iloc[18:20, :4], \"   ...\")"
   ]
  },
  {
   "cell_type": "code",
   "execution_count": 13,
   "id": "cb413465",
   "metadata": {
    "scrolled": true
   },
   "outputs": [
    {
     "name": "stdout",
     "output_type": "stream",
     "text": [
      "columns sorted by number of missing values: \n",
      "age               0\n",
      "sex               0\n",
      "lives_in_Wuhan    0\n",
      "dtype: int64\n",
      "...\n"
     ]
    }
   ],
   "source": [
    "print(\"columns sorted by number of missing values: \")\n",
    "print(numeric_df.isnull().sum().sort_values(ascending=False).head(3))\n",
    "print(\"...\")"
   ]
  },
  {
   "cell_type": "code",
   "execution_count": 14,
   "id": "8676a677",
   "metadata": {},
   "outputs": [
    {
     "name": "stdout",
     "output_type": "stream",
     "text": [
      "age before feature scaling: \n",
      "1         78.0\n",
      "2         61.0\n",
      "113       28.0\n",
      "224       56.0\n",
      "335       79.0\n",
      "          ... \n",
      "649975    74.0\n",
      "657753    54.0\n",
      "658603    24.0\n",
      "658864    84.0\n",
      "661086    84.0\n",
      "Name: age, Length: 103927, dtype: float64\n"
     ]
    }
   ],
   "source": [
    "print(\"age before feature scaling: \")\n",
    "print(numeric_df[\"age\"].head(-5))"
   ]
  },
  {
   "cell_type": "code",
   "execution_count": 15,
   "id": "54af4dac",
   "metadata": {},
   "outputs": [
    {
     "name": "stdout",
     "output_type": "stream",
     "text": [
      "age distribution: \n"
     ]
    },
    {
     "data": {
      "text/plain": [
       "array([[<AxesSubplot:title={'center':'age'}>]], dtype=object)"
      ]
     },
     "execution_count": 15,
     "metadata": {},
     "output_type": "execute_result"
    },
    {
     "data": {
      "image/png": "[encoded data removed]",
      "text/plain": [
       "<Figure size 432x288 with 1 Axes>"
      ]
     },
     "metadata": {
      "needs_background": "light"
     },
     "output_type": "display_data"
    }
   ],
   "source": [
    "print(\"age distribution: \")\n",
    "numeric_df.hist(column=\"age\", bins=40)"
   ]
  },
  {
   "cell_type": "code",
   "execution_count": 16,
   "id": "818019b3",
   "metadata": {},
   "outputs": [
    {
     "name": "stdout",
     "output_type": "stream",
     "text": [
      "1         3.076382\n",
      "2         0.828695\n",
      "113      -3.534464\n",
      "224       0.167610\n",
      "335       3.208599\n",
      "            ...   \n",
      "649975    2.547515\n",
      "657753   -0.096824\n",
      "658603   -4.063331\n",
      "658864    3.869684\n",
      "661086    3.869684\n",
      "Name: age, Length: 103927, dtype: float64\n"
     ]
    }
   ],
   "source": [
    "#feature scaling \n",
    "from sklearn.preprocessing import minmax_scale\n",
    "from sklearn.preprocessing import StandardScaler\n",
    "\n",
    "my_scaler = StandardScaler()\n",
    "numeric_df[[\"age\"]] = my_scaler.fit_transform(numeric_df[[\"age\"]])\n",
    "\n",
    "print(numeric_df[\"age\"].head(-5))"
   ]
  },
  {
   "cell_type": "code",
   "execution_count": 17,
   "id": "fc033932",
   "metadata": {},
   "outputs": [
    {
     "data": {
      "text/html": [
       "<div>\n",
       "<style scoped>\n",
       "    .dataframe tbody tr th:only-of-type {\n",
       "        vertical-align: middle;\n",
       "    }\n",
       "\n",
       "    .dataframe tbody tr th {\n",
       "        vertical-align: top;\n",
       "    }\n",
       "\n",
       "    .dataframe thead th {\n",
       "        text-align: right;\n",
       "    }\n",
       "</style>\n",
       "<table border=\"1\" class=\"dataframe\">\n",
       "  <thead>\n",
       "    <tr style=\"text-align: right;\">\n",
       "      <th></th>\n",
       "      <th>age</th>\n",
       "      <th>sex</th>\n",
       "      <th>lives_in_Wuhan</th>\n",
       "      <th>reported_market_exposure</th>\n",
       "      <th>chronic_disease_binary</th>\n",
       "      <th>travel_history_binary</th>\n",
       "      <th>outcome</th>\n",
       "    </tr>\n",
       "  </thead>\n",
       "  <tbody>\n",
       "    <tr>\n",
       "      <th>age</th>\n",
       "      <td>1.000000</td>\n",
       "      <td>0.375305</td>\n",
       "      <td>-0.003862</td>\n",
       "      <td>-0.002351</td>\n",
       "      <td>0.062875</td>\n",
       "      <td>-0.087701</td>\n",
       "      <td>-0.057680</td>\n",
       "    </tr>\n",
       "    <tr>\n",
       "      <th>sex</th>\n",
       "      <td>0.375305</td>\n",
       "      <td>1.000000</td>\n",
       "      <td>-0.023532</td>\n",
       "      <td>-0.011959</td>\n",
       "      <td>-0.021266</td>\n",
       "      <td>-0.043760</td>\n",
       "      <td>0.022506</td>\n",
       "    </tr>\n",
       "    <tr>\n",
       "      <th>lives_in_Wuhan</th>\n",
       "      <td>-0.003862</td>\n",
       "      <td>-0.023532</td>\n",
       "      <td>1.000000</td>\n",
       "      <td>0.103096</td>\n",
       "      <td>0.208849</td>\n",
       "      <td>0.117920</td>\n",
       "      <td>-0.050197</td>\n",
       "    </tr>\n",
       "    <tr>\n",
       "      <th>reported_market_exposure</th>\n",
       "      <td>-0.002351</td>\n",
       "      <td>-0.011959</td>\n",
       "      <td>0.103096</td>\n",
       "      <td>1.000000</td>\n",
       "      <td>0.088334</td>\n",
       "      <td>-0.000224</td>\n",
       "      <td>0.000768</td>\n",
       "    </tr>\n",
       "    <tr>\n",
       "      <th>chronic_disease_binary</th>\n",
       "      <td>0.062875</td>\n",
       "      <td>-0.021266</td>\n",
       "      <td>0.208849</td>\n",
       "      <td>0.088334</td>\n",
       "      <td>1.000000</td>\n",
       "      <td>0.291014</td>\n",
       "      <td>-0.113648</td>\n",
       "    </tr>\n",
       "    <tr>\n",
       "      <th>travel_history_binary</th>\n",
       "      <td>-0.087701</td>\n",
       "      <td>-0.043760</td>\n",
       "      <td>0.117920</td>\n",
       "      <td>-0.000224</td>\n",
       "      <td>0.291014</td>\n",
       "      <td>1.000000</td>\n",
       "      <td>-0.038283</td>\n",
       "    </tr>\n",
       "    <tr>\n",
       "      <th>outcome</th>\n",
       "      <td>-0.057680</td>\n",
       "      <td>0.022506</td>\n",
       "      <td>-0.050197</td>\n",
       "      <td>0.000768</td>\n",
       "      <td>-0.113648</td>\n",
       "      <td>-0.038283</td>\n",
       "      <td>1.000000</td>\n",
       "    </tr>\n",
       "  </tbody>\n",
       "</table>\n",
       "</div>"
      ],
      "text/plain": [
       "                               age       sex  lives_in_Wuhan  \\\n",
       "age                       1.000000  0.375305       -0.003862   \n",
       "sex                       0.375305  1.000000       -0.023532   \n",
       "lives_in_Wuhan           -0.003862 -0.023532        1.000000   \n",
       "reported_market_exposure -0.002351 -0.011959        0.103096   \n",
       "chronic_disease_binary    0.062875 -0.021266        0.208849   \n",
       "travel_history_binary    -0.087701 -0.043760        0.117920   \n",
       "outcome                  -0.057680  0.022506       -0.050197   \n",
       "\n",
       "                          reported_market_exposure  chronic_disease_binary  \\\n",
       "age                                      -0.002351                0.062875   \n",
       "sex                                      -0.011959               -0.021266   \n",
       "lives_in_Wuhan                            0.103096                0.208849   \n",
       "reported_market_exposure                  1.000000                0.088334   \n",
       "chronic_disease_binary                    0.088334                1.000000   \n",
       "travel_history_binary                    -0.000224                0.291014   \n",
       "outcome                                   0.000768               -0.113648   \n",
       "\n",
       "                          travel_history_binary   outcome  \n",
       "age                                   -0.087701 -0.057680  \n",
       "sex                                   -0.043760  0.022506  \n",
       "lives_in_Wuhan                         0.117920 -0.050197  \n",
       "reported_market_exposure              -0.000224  0.000768  \n",
       "chronic_disease_binary                 0.291014 -0.113648  \n",
       "travel_history_binary                  1.000000 -0.038283  \n",
       "outcome                               -0.038283  1.000000  "
      ]
     },
     "execution_count": 17,
     "metadata": {},
     "output_type": "execute_result"
    }
   ],
   "source": [
    "#look at correlation with output variable for numerical features where this makes sense\n",
    "correlation_df = numeric_df[[\"age\", \"sex\", \"lives_in_Wuhan\", \"reported_market_exposure\",\"chronic_disease_binary\",\n",
    "                             \"travel_history_binary\", \"outcome\"]]\n",
    "correlation_df.corr()"
   ]
  },
  {
   "cell_type": "code",
   "execution_count": 18,
   "id": "28eb4e7c",
   "metadata": {},
   "outputs": [
    {
     "name": "stdout",
     "output_type": "stream",
     "text": [
      "numeric features:  Index(['age', 'sex', 'travel_history_binary', 'chronic_disease_binary',\n",
      "       'outcome'],\n",
      "      dtype='object')\n"
     ]
    }
   ],
   "source": [
    "#use number of missing values, correlation with outcome and intuition to decide which numerical features to keep\n",
    "numeric_df.drop([\"date_onset_symptoms\", \"date_admission_hospital\", \"date_confirmation\", \"lives_in_Wuhan\",\n",
    "                 \"travel_history_dates\", \"reported_market_exposure\", \"date_death_or_discharge\"], axis=1, inplace=True)\n",
    "print(\"numeric features: \", numeric_df.columns)"
   ]
  },
  {
   "cell_type": "code",
   "execution_count": 19,
   "id": "f218eec3",
   "metadata": {},
   "outputs": [],
   "source": [
    "#drop numerical features not chosen from main labelled dataframe\n",
    "lab_df = labelled_df.drop([\"date_onset_symptoms\", \"date_admission_hospital\", \"date_confirmation\", \"lives_in_Wuhan\",\n",
    "                  \"travel_history_dates\", \"reported_market_exposure\", \"date_death_or_discharge\"], axis=1).copy()"
   ]
  },
  {
   "cell_type": "code",
   "execution_count": 20,
   "id": "83ca2419",
   "metadata": {},
   "outputs": [
    {
     "name": "stdout",
     "output_type": "stream",
     "text": [
      "(103932, 19)\n"
     ]
    }
   ],
   "source": [
    "#replace columns in labelled dataframe with cleaned numeric columns\n",
    "lab_df.drop([\"sex\", \"age\", \"travel_history_binary\", \"chronic_disease_binary\", \"outcome\"], axis=1, inplace=True)\n",
    "lab_df = pd.concat([lab_df, numeric_df[\"sex\"], numeric_df[\"age\"], numeric_df[\"travel_history_binary\"],\n",
    "                        numeric_df[\"chronic_disease_binary\"], numeric_df[\"outcome\"]], axis=1)\n",
    "print(lab_df.shape)"
   ]
  },
  {
   "cell_type": "code",
   "execution_count": 21,
   "id": "9c910b3b",
   "metadata": {},
   "outputs": [
    {
     "name": "stdout",
     "output_type": "stream",
     "text": [
      "0.0    5999\n",
      "1.0    5999\n",
      "Name: outcome, dtype: int64\n",
      "city                       10371\n",
      "province                   11926\n",
      "country                    11996\n",
      "latitude                   11998\n",
      "longitude                  11998\n",
      "geo_resolution             11998\n",
      "symptoms                     145\n",
      "travel_history_location       61\n",
      "chronic_disease              106\n",
      "location                     301\n",
      "admin3                         7\n",
      "admin2                       123\n",
      "admin1                      1506\n",
      "country_new                11166\n",
      "sex                        11998\n",
      "age                        11998\n",
      "travel_history_binary      11998\n",
      "chronic_disease_binary     11998\n",
      "outcome                    11998\n",
      "dtype: int64\n"
     ]
    }
   ],
   "source": [
    "#balance dataset as we are building a predictive model, and there are many more 0's in our dataset than 1's for outcome\n",
    "from sklearn.utils import resample\n",
    "\n",
    "df_posotive = lab_df[lab_df.outcome == 1]\n",
    "df_negative = lab_df[lab_df.outcome == 0]\n",
    "\n",
    "df_posotive_balanced = resample(df_posotive, n_samples=len(df_negative), replace=False, random_state=0)\n",
    "\n",
    "df_balanced = pd.concat([df_posotive_balanced, df_negative])\n",
    "print(df_balanced[\"outcome\"].value_counts())\n",
    "print(df_balanced.count())"
   ]
  },
  {
   "cell_type": "code",
   "execution_count": 22,
   "id": "e90bd47a",
   "metadata": {},
   "outputs": [
    {
     "name": "stdout",
     "output_type": "stream",
     "text": [
      "final list of features:  Index(['city', 'province', 'country', 'symptoms', 'travel_history_location',\n",
      "       'chronic_disease', 'sex', 'age', 'travel_history_binary',\n",
      "       'chronic_disease_binary', 'outcome'],\n",
      "      dtype='object')\n"
     ]
    }
   ],
   "source": [
    "#deal with categorical variables\n",
    "#I will use city, province and country for location data as they are standardized and have few missing values\n",
    "df_balanced.drop([\"latitude\", \"longitude\", \"geo_resolution\", \"admin3\", \"admin2\", \"admin1\", \"country_new\",\n",
    "                  \"location\"], axis=1, inplace=True)\n",
    "print(\"final list of features: \", df_balanced.columns)"
   ]
  },
  {
   "cell_type": "code",
   "execution_count": 23,
   "id": "489cedaa",
   "metadata": {},
   "outputs": [
    {
     "name": "stdout",
     "output_type": "stream",
     "text": [
      "['cough', 'fever', 'sore throat', 'respiratory symptoms', 'mialgia', 'headache', 'shortness of breath', 'runny nose', '', 'kidney failure', 'hypertension', 'difficulty breathing', 'anorexia', 'fatigue', 'gasp', 'diarrhea', 'chest distress', 'sensation of chill', 'dizziness', 'expectoration', 'chest pain', 'weak', 'dyspnea', 'muscular soreness', 'primary myelofibrosis', 'respiratory stress', 'fatigure', 'little sputum', 'obnubilation', 'somnolence', 'emesis', 'cold chills', 'dry cough', 'grasp', 'severe', 'mild to moderate', 'respiratory distress syndrome', 'pneumonia', 'respiratory failure', 'septic shock', 'cardiogenic shock', 'renal failure', 'multiple organ failure', 'cardiac arrhythmia', 'heart failure', 'myocardial infarction', 'multiple electrolyte imbalance', 'respiratory disease', 'respiratory distress', 'coronary syndrome', 'congestive heart failure', 'respiratory infection', 'sepsis', 'kidney injury', 'arrhythmia', 'myocardial dysfunction', 'gastritis', 'cardiopulmonary arrest', 'respiratory disease syndrome', 'hypoxia', 'significant clinical suspicion', 'torpid evolution with respiratory distress', 'bronchopneumonia']\n"
     ]
    }
   ],
   "source": [
    "#create list of unique entries in symptoms column to help one hot encode\n",
    "sl_df = df_balanced[[\"symptoms\"]].copy().dropna()\n",
    "\n",
    "import re\n",
    "\n",
    "list_symptoms = []\n",
    "for index, row in sl_df.iterrows():\n",
    "    row_value = row[\"symptoms\"]\n",
    "    row_value = row_value.replace(\"acute\", \"\")\n",
    "    row_value = row_value.replace(\"severe\", \"\")\n",
    "    row_value = row_value.replace(\";\", \",\")\n",
    "    row_value = row_value.replace(\"and\", \",\")\n",
    "    row_value = row_value.replace(\":\", \",\")\n",
    "    row_list = row_value.split(\",\")\n",
    "    for sym in row_list:\n",
    "        sym_ = sym.lower().strip()\n",
    "        if sym_ not in list_symptoms:\n",
    "            list_symptoms.append(sym_)\n",
    "            \n",
    "print(list_symptoms)"
   ]
  },
  {
   "cell_type": "code",
   "execution_count": 24,
   "id": "caab7482",
   "metadata": {},
   "outputs": [],
   "source": [
    "final_list_symptoms = [\"fever\", \"cough\", \"repiratory symptoms\", \"runny nose\", \"kidney failure\", \"hypertension\",\n",
    "                    \"respiratory stress\", \"sore throat\", \"anorexia\", \"fatigue\", \"primary myelofibrosis\", \"obnubilation\",\n",
    "                    \"somnolence\", \"cold chills\", \"muscular soreness\", \"respiratory failure\",\"septic shock\", \n",
    "                    \"cardiogenic shock\", \"multiple organ failure\", \"cardiac arrhythmia\", \"heart failure\", \"chest distress\",\n",
    "                    \"multiple electrolyte imbalance\", \"respiratory disease\", \"coronary syndrome\", \"sepsis\", \"kidney injury\",\n",
    "                    \"gastritis\", \"hpoxia\", \"significant clinical suspicion\", \"pneumonia\", \"headache\", \"diarrhea\",\n",
    "                    \"dizziness\", \"little sputum\", \"emesis\"]\n",
    "grouped_list = [[\"fever\"], [\"dry cough\", \"cough\"], [\"respiratory symptoms\", \"difficulty breathing\", \"shortness of breath\",\n",
    "            \"dyspnea\", \"gasp\", \"expectoration\"], [\"runny nose\"], [\"kidney failure\", \"renal failure\"], [\"hypertension\"], \n",
    "                [\"respiratory stress\", \"respiratory distress syndrome\", \"respiratory distress\",\n",
    "            \"torpid evolution with respiratory distress\"], [\"sore throat\"], [\"anorexia\"], [\"fatigue\", \"fatigure\"],\n",
    "            [\"primary myelofibrosis\"], [\"obnubilation\"], [\"somnolence\"], [\"cold chills\", \"sensation of chill\"],\n",
    "            [\"muscular soreness\", \"mialgia\"], [\"respiratory failure\"], [\"septic shock\"], [\"cardiogenic shock\"],\n",
    "            [\"multiple organ failure\"], [\"cardiac arrhythmia\", \"arrhythmia\"], [\"heart failure\", \"myocardial infarction\",\n",
    "            \"congestive heart failure\", \"myocardial dysfunction\", \"cardiopulmonary arrest\"], [\"chest distress\",\n",
    "            \"chest pain\"], [\"multiple electrolyte imbalance\"], [\"respiratory disease\", \"respiratory infection\", \n",
    "            \"respiratory disease syndrome\"], [\"coronary syndrome\"], [\"sepsis\"], [\"kidney injury\"], [\"gastritis\"],\n",
    "            [\"hypoxia\"], [\"significant clinical suspicion\"], [\"pneumonia\", \"bronchopneumonia\"], [\"headache\"], [\"diarrhea\"],\n",
    "            [\"dizziness\"], [\"little sputum\"], [\"emesis\"]]"
   ]
  },
  {
   "cell_type": "code",
   "execution_count": 25,
   "id": "7baeb897",
   "metadata": {},
   "outputs": [
    {
     "name": "stdout",
     "output_type": "stream",
     "text": [
      "(11998, 36)\n",
      "5218    cough, fever, shortness of breath\n",
      "Name: symptoms, dtype: object\n"
     ]
    }
   ],
   "source": [
    "#reindex balanced_df\n",
    "df_balanced.index = np.arange(len(df_balanced))\n",
    "\n",
    "columns_to_add = np.zeros((df_balanced.shape[0], len(grouped_list)))\n",
    "print(columns_to_add.shape)\n",
    "for index, row in df_balanced.iterrows():\n",
    "    row_value = row[\"symptoms\"]\n",
    "    if isinstance(row_value, float):\n",
    "        continue\n",
    "    row_value = row_value.replace(\"acute\", \"\")\n",
    "    row_value = row_value.replace(\"severe\", \"\")\n",
    "    row_value = row_value.replace(\";\", \",\")\n",
    "    row_value = row_value.replace(\"and\", \",\")\n",
    "    row_value = row_value.replace(\":\", \",\")\n",
    "    row_list = row_value.split(\",\")\n",
    "    i = 0\n",
    "    while i < len(grouped_list):\n",
    "        for sym in row_list:\n",
    "            sym_ = sym.lower().strip()\n",
    "            if sym_ in grouped_list[i]:\n",
    "                columns_to_add[index][i] = 1\n",
    "        i += 1\n",
    "        \n",
    "print(df_balanced.iloc[5218:5219][\"symptoms\"])"
   ]
  },
  {
   "cell_type": "code",
   "execution_count": 26,
   "id": "ce6a5d41",
   "metadata": {},
   "outputs": [
    {
     "name": "stdout",
     "output_type": "stream",
     "text": [
      "      fever  cough  repiratory symptoms  runny nose  kidney failure  \\\n",
      "5218    1.0    1.0                  1.0         0.0             0.0   \n",
      "\n",
      "      hypertension  respiratory stress  sore throat  anorexia  fatigue  ...  \\\n",
      "5218           0.0                 0.0          0.0       0.0      0.0  ...   \n",
      "\n",
      "      kidney injury  gastritis  hpoxia  significant clinical suspicion  \\\n",
      "5218            0.0        0.0     0.0                             0.0   \n",
      "\n",
      "      pneumonia  headache  diarrhea  dizziness  little sputum  emesis  \n",
      "5218        0.0       0.0       0.0        0.0            0.0     0.0  \n",
      "\n",
      "[1 rows x 36 columns]\n"
     ]
    }
   ],
   "source": [
    "one_hot_symptom_df = pd.DataFrame(columns_to_add, columns = final_list_symptoms)\n",
    "print(one_hot_symptom_df.iloc[5218:5219][:])"
   ]
  },
  {
   "cell_type": "code",
   "execution_count": 27,
   "id": "fb6d855b",
   "metadata": {},
   "outputs": [
    {
     "name": "stdout",
     "output_type": "stream",
     "text": [
      "['copd', 'prostate hypertrophy', 'iran', 'kuala lumpur', 'federal territory of kuala lumpur', 'malaysia', 'diabetes', 'hypertension', '\"thought to have had other pre-existing conditions\"', 'hepatitis b', 'bronchitis', 'coronary heart disease', 'tuberculosis', 'obstructive pulmonary disease', 'renal insufficiency', 'cerebral infarction', 'frequent ventricular premature beat (fvpb)', 'coronary artery stenting', 'encephalomalacia', 'hip replacement', \"parkinson's disease for five years\", 'taking medicine of madopar', 'hypertension for more than 20 years', 'diabetes for more than 20 years', \"parkinson's disease\", 'colon cancer surgery four years ago', 'stenocardia', 'coronary stenting', 'hemorrhage of digestive tract', 'chronic pulmonary condition', 'kidney disease', 'asthma', 'valvular heart disease', 'hypertensive', 'hypertenstion', 'upper git bleeding', 'chronic kidney disease', 'pre-renal azotemia', 'cardiomyopathy', 'colon cancer', 'ischemic heart disease', 'benign prostatic hyperplasia', 'bronchial asthma', 'impaired fasting glucose', 'dislipidemia', 'renal disease', 'atherosclerosis', 'coronary artery disease', 'atrial fibrillation', 'cerebrovascular infarct', 'cardiac disease', 'hypothyroidism', 'dyslipidemia', 'prostate cancer', 'tongue cancer', 'cardiovascular disease', 'benign prostatic hypertrophy', 'cardiac dysrhythmia', 'hyperthyroidism', 'cerebrovascular accident infarct']\n"
     ]
    }
   ],
   "source": [
    "#repeat for chronic disease\n",
    "sli_df = df_balanced[[\"chronic_disease\"]].copy().dropna()\n",
    "\n",
    "import re\n",
    "\n",
    "list_diseases = []\n",
    "for index, row in sli_df.iterrows():\n",
    "    row_value = row[\"chronic_disease\"]\n",
    "    row_value = row_value.replace(\"chronic\", \"\")\n",
    "    row_value = row_value.replace(\";\", \",\")\n",
    "    row_value = row_value.replace(\"and\", \",\")\n",
    "    row_value = row_value.replace(\":\", \",\")\n",
    "    row_list = row_value.split(\",\")\n",
    "    for dis in row_list:\n",
    "        dis_ = dis.lower().strip()\n",
    "        if dis_ not in list_diseases:\n",
    "            list_diseases.append(dis_)\n",
    "            \n",
    "print(list_diseases)"
   ]
  },
  {
   "cell_type": "code",
   "execution_count": 28,
   "id": "f16e15e4",
   "metadata": {},
   "outputs": [],
   "source": [
    "final_list_disease = [\"chronic_copd\", \"chronic_prostate\", \"chronic_diabetes\", \"chronic_hypertension\", \"chronic_hepatitus b\",\n",
    "                    \"chronic_cardiac disease\", \"chronic_tuberculosis\", \"chronic_kidney disease\", \"chronic_cerebral disease\",\n",
    "                    \"chronic_hip replacement\", \"chronic_parkinsons\", \"chronic_digestive disease\", \"chronic_cancer\",\n",
    "                     \"chronic_asthma\", \"chronic_dislipidemia\", \"chronic_atherosclerosis\", \"chronic_hyperthyroidism\",\n",
    "                     \"chronic_hypothyroidism\"]\n",
    "d_grouped_list = [[\"copd\", \"bronchitis\", \"obstructive pulmonary disease\", \"chronic pulmonary condition\"], \n",
    "                [\"prostate hypertrophy\"], [\"diabetes\", \"diabetes for more than 20 years\", \"impaired fasting glucose\"],\n",
    "                [\"hypertension\", \"hypertension for more than 20 years\", \"hypertensive\", \"hypertenstion\"], [\"hepatitis b\"],\n",
    "                [\"coronary heart disease\", \"frequent ventricular premature beat (fvpb)\", \"coronary artery stenting\",\n",
    "                \"valvular heart disease\", \"cardiomyopathy\", \"ischemic heart disease\", \"coronary artery disease\",\n",
    "                \"atrial fibrillation\",\"cardiac disease\", \"cardiac dysrhythmia\", \"stenocardia\", \"coronary stenting\",\n",
    "                \"cardiovascular disease\"], [\"tuberculosis\"], [\"renal insufficiency\", \"kidney disease\", \"pre-renal azotemia\",\n",
    "                \"renal disease\", \"chronic kidney disease\"], [\"cerebral infarction\", \"encephalomalacia\",\n",
    "                \"cerebrovascular infarct\", \"cerebrovascular accident infarct\"], [\"hip replacement\"],\n",
    "                [\"parkinson's disease for five years\", \"taking medicine of madopar\", \"parkinson's disease\"], \n",
    "                [\"hemorrhage of digestive tract\", \"upper git bleeding\"], [\"cancer\", \"benign prostatic hyperplasia\",\n",
    "                \"colon cancer\", \"colon cancer surgery four years ago\", \"prostate cancer\", \"tongue cancer\", \n",
    "                \"benign prostatic hypertrophy\"], [\"asthma\", \"bronchial asthma\"], [\"dislipidemia\", \"dyslipidemia\"], \n",
    "                [\"atherosclerosis\"], [\"hyperthyroidism\"], [\"hypothyroidism\"]] "
   ]
  },
  {
   "cell_type": "code",
   "execution_count": 29,
   "id": "97e2b43e",
   "metadata": {},
   "outputs": [
    {
     "name": "stdout",
     "output_type": "stream",
     "text": [
      "(11998, 18)\n",
      "6007    diabetes, hypertension\n",
      "Name: chronic_disease, dtype: object\n"
     ]
    }
   ],
   "source": [
    "d_columns_to_add = np.zeros((df_balanced.shape[0], len(d_grouped_list)))\n",
    "print(d_columns_to_add.shape)\n",
    "for index, row in df_balanced.iterrows():\n",
    "    row_value = row[\"chronic_disease\"]\n",
    "    if isinstance(row_value, float):\n",
    "        continue\n",
    "    row_value = row_value.replace(\"chronic\", \"\")\n",
    "    row_value = row_value.replace(\";\", \",\")\n",
    "    row_value = row_value.replace(\"and\", \",\")\n",
    "    row_value = row_value.replace(\":\", \",\")\n",
    "    row_list = row_value.split(\",\")\n",
    "    i = 0\n",
    "    while i < len(d_grouped_list):\n",
    "        for dis in row_list:\n",
    "            dis_ = dis.lower().strip()\n",
    "            if dis_ in d_grouped_list[i]:\n",
    "                d_columns_to_add[index][i] = 1\n",
    "        i += 1\n",
    "            \n",
    "print(df_balanced.iloc[6007:6008][\"chronic_disease\"])"
   ]
  },
  {
   "cell_type": "code",
   "execution_count": 30,
   "id": "60c6d8e6",
   "metadata": {},
   "outputs": [
    {
     "name": "stdout",
     "output_type": "stream",
     "text": [
      "      chronic_copd  chronic_prostate  chronic_diabetes  chronic_hypertension  \\\n",
      "6007           0.0               0.0               1.0                   1.0   \n",
      "\n",
      "      chronic_hepatitus b  chronic_cardiac disease  chronic_tuberculosis  \\\n",
      "6007                  0.0                      0.0                   0.0   \n",
      "\n",
      "      chronic_kidney disease  chronic_cerebral disease  \\\n",
      "6007                     0.0                       0.0   \n",
      "\n",
      "      chronic_hip replacement  chronic_parkinsons  chronic_digestive disease  \\\n",
      "6007                      0.0                 0.0                        0.0   \n",
      "\n",
      "      chronic_cancer  chronic_asthma  chronic_dislipidemia  \\\n",
      "6007             0.0             0.0                   0.0   \n",
      "\n",
      "      chronic_atherosclerosis  chronic_hyperthyroidism  chronic_hypothyroidism  \n",
      "6007                      0.0                      0.0                     0.0  \n"
     ]
    }
   ],
   "source": [
    "one_hot_disease_df = pd.DataFrame(d_columns_to_add, columns = final_list_disease)\n",
    "print(one_hot_disease_df.iloc[6007:6008][:])"
   ]
  },
  {
   "cell_type": "code",
   "execution_count": 31,
   "id": "bdb9b1fd",
   "metadata": {
    "scrolled": true
   },
   "outputs": [
    {
     "name": "stdout",
     "output_type": "stream",
     "text": [
      "Index(['city', 'province', 'country', 'sex', 'age', 'travel_history_binary',\n",
      "       'chronic_disease_binary', 'outcome'],\n",
      "      dtype='object')\n"
     ]
    }
   ],
   "source": [
    "#drop symptoms and chronic disease as these have been encoded\n",
    "#I also drop travel_history_location as it doesn't have a large impact on model accuracy when included\n",
    "df_balanced.drop([\"symptoms\", \"chronic_disease\", \"travel_history_location\"], inplace=True, axis=1)\n",
    "print(df_balanced.columns)"
   ]
  },
  {
   "cell_type": "code",
   "execution_count": 32,
   "id": "0209d0eb",
   "metadata": {},
   "outputs": [],
   "source": [
    "df_balanced = pd.concat([df_balanced, one_hot_symptom_df, one_hot_disease_df], axis=1)"
   ]
  },
  {
   "cell_type": "code",
   "execution_count": 33,
   "id": "d7f21f9b",
   "metadata": {},
   "outputs": [
    {
     "data": {
      "text/plain": [
       "<AxesSubplot:>"
      ]
     },
     "execution_count": 33,
     "metadata": {},
     "output_type": "execute_result"
    },
    {
     "data": {
      "image/png": "[encoded data removed]",
      "text/plain": [
       "<Figure size 1800x720 with 2 Axes>"
      ]
     },
     "metadata": {
      "needs_background": "light"
     },
     "output_type": "display_data"
    },
    {
     "data": {
      "image/png": "[encoded data removed]",
      "text/plain": [
       "<Figure size 432x216 with 2 Axes>"
      ]
     },
     "metadata": {
      "needs_background": "light"
     },
     "output_type": "display_data"
    }
   ],
   "source": [
    "cat_missing_df = df_balanced[[\"province\", \"city\", \"country\"]].copy()\n",
    "msno.matrix(cat_missing_df)\n",
    "msno.heatmap(cat_missing_df, figsize=(6,3))"
   ]
  },
  {
   "cell_type": "code",
   "execution_count": 34,
   "id": "d0b5658e",
   "metadata": {},
   "outputs": [
    {
     "name": "stdout",
     "output_type": "stream",
     "text": [
      "<class 'pandas.core.frame.DataFrame'>\n",
      "Int64Index: 11998 entries, 0 to 11997\n",
      "Columns: 864 entries, sex to country_Zimbabwe\n",
      "dtypes: float64(863), int64(1)\n",
      "memory usage: 79.2 MB\n",
      "info: None\n"
     ]
    }
   ],
   "source": [
    "#one hot encode province, city and country\n",
    "dummied_df = pd.get_dummies(df_balanced.copy())\n",
    "dummied_df.loc[df_balanced.province.isnull(), dummied_df.columns.str.startswith(\"province_\")] = np.nan\n",
    "dummied_df.loc[df_balanced.country.isnull(), dummied_df.columns.str.startswith(\"country_\")] = np.nan\n",
    "dummied_df.loc[df_balanced.city.isnull(), dummied_df.columns.str.startswith(\"city_\")] = np.nan\n",
    "print(\"info:\", dummied_df.info())"
   ]
  },
  {
   "cell_type": "code",
   "execution_count": 35,
   "id": "4d780ab5",
   "metadata": {},
   "outputs": [],
   "source": [
    "#kNN impute missing location values\n",
    "from sklearn.impute import KNNImputer\n",
    "\n",
    "imputer = KNNImputer()\n",
    "imputer.fit(dummied_df)\n",
    "dummied_n = imputer.transform(dummied_df)"
   ]
  },
  {
   "cell_type": "code",
   "execution_count": 36,
   "id": "cd847c32",
   "metadata": {
    "scrolled": false
   },
   "outputs": [
    {
     "name": "stdout",
     "output_type": "stream",
     "text": [
      "sorted list of missing values: \n",
      "sex                      0\n",
      "city_Sant Kabir Nagar    0\n",
      "city_Samastipur          0\n",
      "dtype: int64\n",
      "...\n"
     ]
    }
   ],
   "source": [
    "dummied_n_df = pd.DataFrame(dummied_n, columns = dummied_df.columns)\n",
    "print(\"sorted list of missing values: \")\n",
    "print(dummied_n_df.isnull().sum().sort_values(ascending=False).head(3))\n",
    "print(\"...\")"
   ]
  },
  {
   "cell_type": "code",
   "execution_count": 37,
   "id": "35ee2d9d",
   "metadata": {},
   "outputs": [
    {
     "name": "stdout",
     "output_type": "stream",
     "text": [
      "(11998, 864)\n",
      "(11998, 863) (11998,)\n"
     ]
    }
   ],
   "source": [
    "columns = list(dummied_n_df.columns)\n",
    "columns.remove(\"outcome\")\n",
    "x_all = dummied_n_df[columns]\n",
    "y_all = dummied_n_df[\"outcome\"]\n",
    "print(dummied_n_df.shape)\n",
    "print(x_all.shape, y_all.shape)"
   ]
  },
  {
   "cell_type": "code",
   "execution_count": 38,
   "id": "93e638f7",
   "metadata": {},
   "outputs": [
    {
     "name": "stdout",
     "output_type": "stream",
     "text": [
      "(8362, 863) (8362,) (1800, 863) (1800,) (1836, 863) (1836,)\n"
     ]
    }
   ],
   "source": [
    "#split data into train, test and validation sets\n",
    "from sklearn.model_selection import train_test_split\n",
    "\n",
    "x_train_test, x_validation, y_train_test, y_validation = train_test_split(x_all, y_all, test_size=0.15, random_state=0)\n",
    "\n",
    "train_X, test_X, train_y, test_y = train_test_split(x_train_test, y_train_test, test_size=0.18, random_state=0)\n",
    "\n",
    "print(train_X.shape, train_y.shape, x_validation.shape, y_validation.shape, test_X.shape, test_y.shape)"
   ]
  },
  {
   "cell_type": "code",
   "execution_count": 39,
   "id": "f13bb33c",
   "metadata": {},
   "outputs": [
    {
     "name": "stdout",
     "output_type": "stream",
     "text": [
      "log reg done\n",
      "kNN done\n",
      "RF done\n"
     ]
    }
   ],
   "source": [
    "#hyperparameter tuning\n",
    "from sklearn.model_selection import RepeatedStratifiedKFold\n",
    "from sklearn.model_selection import GridSearchCV\n",
    "from sklearn.linear_model import LogisticRegression\n",
    "from sklearn.neighbors import KNeighborsClassifier\n",
    "from sklearn.ensemble import RandomForestClassifier\n",
    "\n",
    "#logistic regression\n",
    "test_log_reg = LogisticRegression(max_iter=4000)\n",
    "\n",
    "#hyperparameters to test for logistic regression\n",
    "solvers = [\"liblinear\", \"newton-cg\", \"lbfgs\"]\n",
    "c_nos = [0.01, 0.1, 1.0, 10, 100]\n",
    "penalty = [\"l2\"]\n",
    "\n",
    "#logistic regression testing for best hyperparameters\n",
    "search = dict(C=c_nos, solver=solvers, penalty=penalty)\n",
    "R_K_Fold = RepeatedStratifiedKFold(n_splits=10,random_state=0, n_repeats=3)\n",
    "grid_search = GridSearchCV(estimator=test_log_reg, param_grid=search, n_jobs=-1, cv=R_K_Fold, scoring='accuracy', \n",
    "                           error_score=0)\n",
    "grid_result = grid_search.fit(x_validation, y_validation)\n",
    "print(\"log reg done\")\n",
    "\n",
    "\n",
    "#k nearest neighbours\n",
    "test_kNN_model = KNeighborsClassifier()\n",
    "\n",
    "#hyperparameters to test for k nearest neighbours\n",
    "distance_metric = [\"manhattan\", \"euclidian\", \"minkowski\"]\n",
    "number_nearest_neighbours = range(9, 31, 2)\n",
    "weight = [\"distance\", \"uniform\"]\n",
    "\n",
    "#testing best hyperparameters for kNN\n",
    "kNN_search = dict(weights=weight, n_neighbors=number_nearest_neighbours, metric=distance_metric)\n",
    "kNN_K_Fold = RepeatedStratifiedKFold(n_splits=10,random_state=0, n_repeats=3)\n",
    "kNN_grid_search = GridSearchCV(estimator=test_kNN_model, param_grid=kNN_search, n_jobs=-1, cv=kNN_K_Fold, scoring='accuracy', \n",
    "                           error_score=0)\n",
    "kNN_grid_result = kNN_grid_search.fit(x_validation, y_validation)\n",
    "print(\"kNN done\")\n",
    "\n",
    "\n",
    "#random forest\n",
    "test_random_forest_model = RandomForestClassifier()\n",
    "\n",
    "#hyperparameters to test for random forest\n",
    "features_max = [\"log2\", \"sqrt\", \"auto\"]\n",
    "estimators = [10, 100, 1000]\n",
    "\n",
    "#testing best hyperparameters for SVM\n",
    "RF_search = dict(max_features=features_max, n_estimators=estimators)\n",
    "RF_K_Fold = RepeatedStratifiedKFold(n_splits=10,random_state=0, n_repeats=3)\n",
    "RF_grid_search = GridSearchCV(estimator=test_random_forest_model, param_grid=RF_search, n_jobs=-1, cv=RF_K_Fold,\n",
    "                            scoring='accuracy', error_score=0)\n",
    "RF_grid_result = RF_grid_search.fit(x_validation, y_validation)\n",
    "print(\"RF done\")"
   ]
  },
  {
   "cell_type": "code",
   "execution_count": 40,
   "id": "a9f62a7f",
   "metadata": {},
   "outputs": [
    {
     "name": "stdout",
     "output_type": "stream",
     "text": [
      "best logistic regression hyperparams:  {'C': 1.0, 'penalty': 'l2', 'solver': 'liblinear'}\n",
      "accuracy:  0.6685185185185184\n",
      "standard deviation:  0.028843744403611163 \n",
      "\n",
      "best kNN hyperparams:  {'metric': 'manhattan', 'n_neighbors': 11, 'weights': 'uniform'}\n",
      "accuracy:  0.673888888888889\n",
      "standard deviation:  0.027597563559185658 \n",
      "\n",
      "best RF hyperparams:  {'max_features': 'log2', 'n_estimators': 100}\n",
      "accuracy:  0.6822222222222222\n",
      "standard deviation:  0.03208784239598589\n"
     ]
    }
   ],
   "source": [
    "print(\"best logistic regression hyperparams: \", grid_result.best_params_)\n",
    "print(\"accuracy: \", grid_result.best_score_)\n",
    "print(\"standard deviation: \", grid_result.cv_results_['std_test_score'][grid_result.best_index_], \"\\n\")\n",
    "print(\"best kNN hyperparams: \", kNN_grid_result.best_params_)\n",
    "print(\"accuracy: \", kNN_grid_result.best_score_)\n",
    "print(\"standard deviation: \", kNN_grid_result.cv_results_['std_test_score'][kNN_grid_result.best_index_], \"\\n\")\n",
    "print(\"best RF hyperparams: \", RF_grid_result.best_params_)\n",
    "print(\"accuracy: \", RF_grid_result.best_score_)\n",
    "print(\"standard deviation: \", RF_grid_result.cv_results_['std_test_score'][RF_grid_result.best_index_])"
   ]
  },
  {
   "cell_type": "code",
   "execution_count": 41,
   "id": "fe885b97",
   "metadata": {},
   "outputs": [
    {
     "name": "stdout",
     "output_type": "stream",
     "text": [
      "linear reg done\n",
      "kNN done\n",
      "RF done \n",
      "\n",
      "\n",
      "logistic regression model accuracy score on test set:  0.6933551198257081 \n",
      "\n",
      "K nearest neighbours model accuracy score on test set:  0.6742919389978214 \n",
      "\n",
      "random forest model accuracy score on test set:  0.7096949891067538\n"
     ]
    }
   ],
   "source": [
    "#implementation of the 3 models\n",
    "from sklearn.linear_model import LogisticRegression\n",
    "from sklearn.neighbors import KNeighborsClassifier\n",
    "from sklearn.ensemble import RandomForestClassifier\n",
    "\n",
    "#linear regression model\n",
    "my_log_reg = LogisticRegression(max_iter=4000, solver=\"liblinear\", C=1.0, penalty=\"l2\")\n",
    "my_log_reg.fit(train_X, train_y)\n",
    "#threshold = 0.5\n",
    "pred_y = my_log_reg.predict(test_X)\n",
    "print(\"linear reg done\")\n",
    "pred_train = my_log_reg.predict(train_X)\n",
    "\n",
    "#k nearest neighbour model\n",
    "kNN_model = KNeighborsClassifier(metric=\"manhattan\", n_neighbors=11, weights=\"uniform\")\n",
    "kNN_model.fit(train_X, train_y)\n",
    "kNN_y_pred = kNN_model.predict(test_X)\n",
    "print(\"kNN done\")\n",
    "kNN_pred_train = kNN_model.predict(train_X)\n",
    "\n",
    "#Random forest model\n",
    "random_forest_model = RandomForestClassifier(max_features=\"log2\", n_estimators=100)\n",
    "random_forest_model.fit(train_X, train_y)\n",
    "RF_y_pred = random_forest_model.predict(test_X)\n",
    "print(\"RF done \\n\\n\")\n",
    "RF_pred_train = random_forest_model.predict(train_X)\n",
    "\n",
    "from sklearn.metrics import accuracy_score\n",
    "\n",
    "#print(\"logistic regression model accuracy score on training set: \", accuracy_score(pred_train, train_y))\n",
    "print(\"logistic regression model accuracy score on test set: \", accuracy_score(test_y, pred_y), \"\\n\")\n",
    "#print(\"kNN model accuracy score on training set: \", accuracy_score(kNN_pred_train, train_y))\n",
    "print(\"K nearest neighbours model accuracy score on test set: \", accuracy_score(test_y, kNN_y_pred), \"\\n\")\n",
    "#print(\"RF model accuracy score on training set: \", accuracy_score(RF_pred_train, train_y))\n",
    "print(\"random forest model accuracy score on test set: \", accuracy_score(test_y, RF_y_pred))"
   ]
  },
  {
   "cell_type": "code",
   "execution_count": 42,
   "id": "e234e11b",
   "metadata": {},
   "outputs": [
    {
     "name": "stdout",
     "output_type": "stream",
     "text": [
      "log reg done\n",
      "kNN done\n",
      "RF done\n"
     ]
    }
   ],
   "source": [
    "#k fold cross validation\n",
    "from sklearn.model_selection import cross_val_score\n",
    "from sklearn.model_selection import KFold\n",
    "\n",
    "#logistic regression cross validation\n",
    "k_fold = KFold(shuffle=True, random_state=0, n_splits=10)\n",
    "log_all_scores = cross_val_score(my_log_reg, x_train_test, y_train_test, cv=k_fold, scoring=\"accuracy\")\n",
    "print(\"log reg done\")\n",
    "\n",
    "#kNN cross validation\n",
    "kNN_k_fold = KFold(shuffle=True, random_state=0, n_splits=10)\n",
    "kNN_all_scores = cross_val_score(kNN_model, x_train_test, y_train_test, cv=kNN_k_fold, scoring=\"accuracy\")\n",
    "print(\"kNN done\")\n",
    "\n",
    "#random forest cross validation\n",
    "RF_k_fold = KFold(shuffle=True, random_state=0, n_splits=10)\n",
    "RF_all_scores = cross_val_score(random_forest_model, x_train_test, y_train_test, cv=RF_k_fold, scoring=\"accuracy\")\n",
    "print(\"RF done\")"
   ]
  },
  {
   "cell_type": "code",
   "execution_count": 46,
   "id": "a905adb3",
   "metadata": {},
   "outputs": [
    {
     "name": "stdout",
     "output_type": "stream",
     "text": [
      "logistic regression accuracies:  [0.7        0.68921569 0.70980392 0.7        0.70294118 0.7254902\n",
      " 0.69803922 0.69117647 0.69185476 0.68400393]\n",
      "logistic regression average cross validation accuracy:  0.6992525351651947\n",
      "standard deviation:  0.011265658299311147 \n",
      "\n",
      "k nearest neighbour accuracies:  [0.69509804 0.69509804 0.69901961 0.70196078 0.69901961 0.69019608\n",
      " 0.68431373 0.68823529 0.69479882 0.69970559]\n",
      "k nearest neighbour average cross validation accuracy:  0.6947445592564799\n",
      "standard deviation:  0.005341836688143627 \n",
      "\n",
      "random forest accuracies:  [0.7127451  0.70980392 0.72156863 0.70490196 0.71862745 0.73235294\n",
      " 0.7245098  0.69705882 0.70559372 0.70264966]\n",
      "random forest average cross validation accuracy:  0.7129812003309666\n",
      "standard deviation:  0.010507425028306639\n"
     ]
    }
   ],
   "source": [
    "print(\"logistic regression accuracies: \", log_all_scores)\n",
    "print(\"logistic regression average cross validation accuracy: \", (sum(log_all_scores)/len(log_all_scores)))\n",
    "print(\"standard deviation: \", np.std(log_all_scores), \"\\n\")\n",
    "print(\"k nearest neighbour accuracies: \", kNN_all_scores)\n",
    "print(\"k nearest neighbour average cross validation accuracy: \", (sum(kNN_all_scores)/len(kNN_all_scores)))\n",
    "print(\"standard deviation: \", np.std(kNN_all_scores), \"\\n\")\n",
    "print(\"random forest accuracies: \", RF_all_scores)\n",
    "print(\"random forest average cross validation accuracy: \", (sum(RF_all_scores)/len(RF_all_scores)))\n",
    "print(\"standard deviation: \", np.std(RF_all_scores))"
   ]
  },
  {
   "cell_type": "code",
   "execution_count": 45,
   "id": "916fc6c5",
   "metadata": {},
   "outputs": [
    {
     "data": {
      "image/png": "[encoded data removed]",
      "text/plain": [
       "<Figure size 432x288 with 1 Axes>"
      ]
     },
     "metadata": {
      "needs_background": "light"
     },
     "output_type": "display_data"
    }
   ],
   "source": [
    "figure = plt.figure()\n",
    "axis = figure.add_subplot(111)\n",
    "plt.boxplot([log_all_scores, kNN_all_scores, RF_all_scores])\n",
    "axis.set_xticklabels([\"log regression\", \"kNN\", \"random forest\"])\n",
    "plt.show()"
   ]
  },
  {
   "cell_type": "code",
   "execution_count": 47,
   "id": "81943e55",
   "metadata": {},
   "outputs": [
    {
     "data": {
      "image/png": "[encoded data removed]",
      "text/plain": [
       "<Figure size 432x288 with 1 Axes>"
      ]
     },
     "metadata": {
      "needs_background": "light"
     },
     "output_type": "display_data"
    },
    {
     "name": "stdout",
     "output_type": "stream",
     "text": [
      "Area under ROC curve for logistic regression:  0.7741687630529714\n",
      "Area under ROC curve for k nearest neighbours:  0.7885620372128346\n",
      "Area under ROC curve for random forest:  0.8104886557812796\n"
     ]
    }
   ],
   "source": [
    "#plot roc curves\n",
    "from sklearn.metrics import roc_curve, roc_auc_score\n",
    "\n",
    "#logarithmic regression posotive probabilities\n",
    "log_y_probs = my_log_reg.predict_proba(test_X)\n",
    "log_y_probs = log_y_probs[:, 1]\n",
    "#find AUC \n",
    "log_reg_auc_scores = roc_auc_score(test_y, log_y_probs)\n",
    "#make and plot ROC curves\n",
    "log_reg_fp, log_reg_tp, l = roc_curve(test_y, log_y_probs) \n",
    "plt.plot(log_reg_fp, log_reg_tp, marker='.', label=\"logistic regression\")\n",
    "\n",
    "#kNN posotive probabilities\n",
    "kNN_y_probs = kNN_model.predict_proba(test_X)\n",
    "kNN_y_probs = kNN_y_probs[:, 1]\n",
    "#find AUC \n",
    "kNN_auc_scores = roc_auc_score(test_y, kNN_y_probs)\n",
    "#make and plotROC curves\n",
    "kNN_fp, kNN_tp, l = roc_curve(test_y, kNN_y_probs) \n",
    "plt.plot(kNN_fp, kNN_tp, marker='.', label=\"k nearest neighbour\")\n",
    "\n",
    "#SVM posotive probabilities\n",
    "RF_y_probs = random_forest_model.predict_proba(test_X)\n",
    "RF_y_probs = RF_y_probs[:, 1]\n",
    "#find AUC \n",
    "RF_auc_scores = roc_auc_score(test_y, RF_y_probs)\n",
    "#make and plotROC curves\n",
    "RF_fp, RF_tp, l = roc_curve(test_y, RF_y_probs) \n",
    "plt.plot(RF_fp, RF_tp, marker='.', label=\"random forest\")\n",
    "\n",
    "# Reference line\n",
    "plt.plot([0, 1], [0, 1], color=\"green\", lw=1, linestyle='--')\n",
    "\n",
    "plt.xlabel(\"FP Rate\")\n",
    "plt.ylabel(\"TP Rate\")\n",
    "plt.legend()\n",
    "plt.show()\n",
    "\n",
    "print(\"Area under ROC curve for logistic regression: \", log_reg_auc_scores)\n",
    "print(\"Area under ROC curve for k nearest neighbours: \", kNN_auc_scores)\n",
    "print(\"Area under ROC curve for random forest: \", RF_auc_scores)"
   ]
  },
  {
   "cell_type": "code",
   "execution_count": 55,
   "id": "4cae29e5",
   "metadata": {},
   "outputs": [
    {
     "data": {
      "image/png": "[encoded data removed]",
      "text/plain": [
       "<Figure size 432x288 with 2 Axes>"
      ]
     },
     "metadata": {
      "needs_background": "light"
     },
     "output_type": "display_data"
    },
    {
     "name": "stdout",
     "output_type": "stream",
     "text": [
      "      sensitivity:  0.6076086956521739\n",
      "      specificity:  0.7794759825327511\n"
     ]
    },
    {
     "data": {
      "image/png": "[encoded data removed]",
      "text/plain": [
       "<Figure size 432x288 with 2 Axes>"
      ]
     },
     "metadata": {
      "needs_background": "light"
     },
     "output_type": "display_data"
    },
    {
     "name": "stdout",
     "output_type": "stream",
     "text": [
      "      sensitivity:  0.7391304347826086\n",
      "      specificity:  0.6091703056768559\n"
     ]
    },
    {
     "data": {
      "image/png": "[encoded data removed]",
      "text/plain": [
       "<Figure size 432x288 with 2 Axes>"
      ]
     },
     "metadata": {
      "needs_background": "light"
     },
     "output_type": "display_data"
    },
    {
     "name": "stdout",
     "output_type": "stream",
     "text": [
      "       sensitivity:  0.6108695652173913\n",
      "       specificity:  0.8089519650655022\n"
     ]
    }
   ],
   "source": [
    "from sklearn.metrics import confusion_matrix\n",
    "import seaborn as sns\n",
    "\n",
    "#logistic regression confusion matrix\n",
    "log_matrix = confusion_matrix(test_y, pred_y)\n",
    "\n",
    "#kNN confusion matrix\n",
    "kNN_matrix = confusion_matrix(test_y, kNN_y_pred)\n",
    "\n",
    "#SVM confusion matrix\n",
    "RF_matrix = confusion_matrix(test_y, RF_y_pred)\n",
    "\n",
    "sns.heatmap(log_matrix, fmt=\"\", annot=True)\n",
    "plt.xlabel(\"Predicted\")\n",
    "plt.ylabel(\"Actual\")\n",
    "plt.title('Logistic regression')\n",
    "plt.show()\n",
    "print(\"      sensitivity: \", log_matrix[1][1]/(log_matrix[1][1] + log_matrix[1][0]))\n",
    "print(\"      specificity: \", log_matrix[0][0]/(log_matrix[0][0] + log_matrix[0][1]))\n",
    "\n",
    "sns.heatmap(kNN_matrix, fmt=\"\", annot=True)\n",
    "plt.xlabel(\"Predicted\")\n",
    "plt.ylabel(\"Actual\")\n",
    "plt.title('k nearest neighbours')\n",
    "plt.show()\n",
    "print(\"      sensitivity: \", kNN_matrix[1][1]/(kNN_matrix[1][1] + kNN_matrix[1][0]))\n",
    "print(\"      specificity: \", kNN_matrix[0][0]/(kNN_matrix[0][0] + kNN_matrix[0][1]))\n",
    "\n",
    "sns.heatmap(RF_matrix, fmt=\"\", annot=True)\n",
    "plt.xlabel(\"Predicted\")\n",
    "plt.ylabel(\"Actual\")\n",
    "plt.title('Random forest')\n",
    "plt.show()\n",
    "print(\"       sensitivity: \", RF_matrix[1][1]/(RF_matrix[1][1] + RF_matrix[1][0]))\n",
    "print(\"       specificity: \", RF_matrix[0][0]/(RF_matrix[0][0] + RF_matrix[0][1]))"
   ]
  }
 ],
 "metadata": {
  "kernelspec": {
   "display_name": "Python 3",
   "language": "python",
   "name": "python3"
  },
  "language_info": {
   "codemirror_mode": {
    "name": "ipython",
    "version": 3
   },
   "file_extension": ".py",
   "mimetype": "text/x-python",
   "name": "python",
   "nbconvert_exporter": "python",
   "pygments_lexer": "ipython3",
   "version": "3.8.8"
  }
 },
 "nbformat": 4,
 "nbformat_minor": 5
}

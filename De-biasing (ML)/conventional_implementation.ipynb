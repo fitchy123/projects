{
 "cells": [
  {
   "cell_type": "code",
   "execution_count": 1,
   "id": "a1c747ca",
   "metadata": {},
   "outputs": [],
   "source": [
    "#open file and import important libraries\n",
    "#import tarfile\n",
    "import os.path\n",
    "import pandas as pd\n",
    "import numpy as np\n",
    "import matplotlib.pyplot as plt\n",
    "%matplotlib inline\n",
    "\n",
    "if os.path.isfile(\"adult-all.csv\"):\n",
    "    adult_df = pd.read_csv(\"adult-all.csv\", names=[\"age\", \"work-class\", \"fnlwgt\", \"education\", \"education-num\", \n",
    "                            \"marital-status\", \"occupation\", \"relationship\", \"race\", \"sex\", \"capital-gain\", \"capital-loss\",\n",
    "                            \"hours-per-week\", \"native-country\", \"income\"], na_values = \" ?\", low_memory=False)\n",
    "else:\n",
    "    print(\"Cannot find file\")\n",
    "    exit()"
   ]
  },
  {
   "cell_type": "code",
   "execution_count": 2,
   "id": "da63f776",
   "metadata": {},
   "outputs": [
    {
     "name": "stdout",
     "output_type": "stream",
     "text": [
      "0    <=50K\n",
      "1    <=50K\n",
      "2    <=50K\n",
      "3    <=50K\n",
      "4    <=50K\n",
      "Name: income, dtype: object\n"
     ]
    }
   ],
   "source": [
    "print(adult_df[\"income\"].head())"
   ]
  },
  {
   "cell_type": "code",
   "execution_count": 3,
   "id": "bfb0674f",
   "metadata": {
    "scrolled": true
   },
   "outputs": [
    {
     "name": "stdout",
     "output_type": "stream",
     "text": [
      "<class 'pandas.core.frame.DataFrame'>\n",
      "RangeIndex: 48842 entries, 0 to 48841\n",
      "Data columns (total 15 columns):\n",
      " #   Column          Non-Null Count  Dtype \n",
      "---  ------          --------------  ----- \n",
      " 0   age             48842 non-null  int64 \n",
      " 1   work-class      48842 non-null  object\n",
      " 2   fnlwgt          48842 non-null  int64 \n",
      " 3   education       48842 non-null  object\n",
      " 4   education-num   48842 non-null  int64 \n",
      " 5   marital-status  48842 non-null  object\n",
      " 6   occupation      48842 non-null  object\n",
      " 7   relationship    48842 non-null  object\n",
      " 8   race            48842 non-null  object\n",
      " 9   sex             48842 non-null  object\n",
      " 10  capital-gain    48842 non-null  int64 \n",
      " 11  capital-loss    48842 non-null  int64 \n",
      " 12  hours-per-week  48842 non-null  int64 \n",
      " 13  native-country  48842 non-null  object\n",
      " 14  income          48842 non-null  object\n",
      "dtypes: int64(6), object(9)\n",
      "memory usage: 5.6+ MB\n",
      "None\n"
     ]
    }
   ],
   "source": [
    "print(adult_df.info())"
   ]
  },
  {
   "cell_type": "code",
   "execution_count": 4,
   "id": "ab9c50e8",
   "metadata": {},
   "outputs": [
    {
     "name": "stdout",
     "output_type": "stream",
     "text": [
      "White observations : 41762 ::: Non-white observations : 7080\n",
      "White Numeric features :\n",
      "                age  education-num  capital-gain  capital-loss  hours-per-week\n",
      "count  41762.000000   41762.000000  41762.000000  41762.000000    41762.000000\n",
      "mean      38.824362      10.130262   1124.479766     90.915857       40.660170\n",
      "std       13.849726       2.565954   7585.319733    410.911964       12.598627\n",
      "Non-white Numeric features :\n",
      "               age  education-num  capital-gain  capital-loss  hours-per-week\n",
      "count  7080.000000    7080.000000   7080.000000   7080.000000     7080.000000\n",
      "mean     37.577260       9.770339    811.200141     67.367232       39.019774\n",
      "std      12.807813       2.579176   6605.412310    352.127513       10.987486\n"
     ]
    }
   ],
   "source": [
    "###DATA ANALYSIS\n",
    "#race analysis\n",
    "white_df = adult_df[adult_df.race==\"White\"].copy()\n",
    "non_white_df = adult_df[adult_df.race!=\"White\"].copy()\n",
    "print(\"White observations :\", white_df.shape[0], \"::: Non-white observations :\", non_white_df.shape[0])\n",
    "print(\"White Numeric features :\")\n",
    "print(white_df[[\"age\", \"education-num\", \"capital-gain\", \"capital-loss\", \"hours-per-week\"]].describe()[:3])\n",
    "print(\"Non-white Numeric features :\")\n",
    "print(non_white_df[[\"age\", \"education-num\", \"capital-gain\", \"capital-loss\", \"hours-per-week\"]].describe()[:3])"
   ]
  },
  {
   "cell_type": "code",
   "execution_count": 5,
   "id": "130e0130",
   "metadata": {},
   "outputs": [
    {
     "name": "stdout",
     "output_type": "stream",
     "text": [
      "White categorical features : \n",
      "\n",
      "mode is 69.49858723241223 % of total\n",
      "Private             29024\n",
      "Self-emp-not-inc     3576\n",
      "Local-gov            2559\n",
      "Name: work-class, dtype: int64 \n",
      "\n",
      "mode is 32.05545711412289 % of total\n",
      "HS-grad         13387\n",
      "Some-college     9289\n",
      "Bachelors        7034\n",
      "Name: education, dtype: int64 \n",
      "\n",
      "mode is 48.019730855801924 % of total\n",
      "Married-civ-spouse    20054\n",
      "Never-married         13218\n",
      "Divorced               5684\n",
      "Name: marital-status, dtype: int64 \n",
      "\n",
      "mode is 13.179445428858772 % of total\n",
      "Craft-repair       5504\n",
      "Exec-managerial    5474\n",
      "Prof-specialty     5419\n",
      "Name: occupation, dtype: int64 \n",
      "\n",
      "mode is 42.76136200373546 % of total\n",
      "Husband          17858\n",
      "Not-in-family    10805\n",
      "Own-child         6369\n",
      "Name: relationship, dtype: int64 \n",
      "\n",
      "mode is 68.80657056654375 % of total\n",
      "Male      28735\n",
      "Female    13027\n",
      "Name: sex, dtype: int64 \n",
      "\n",
      "mode is 92.17230975527993 % of total\n",
      "United-States    38493\n",
      "Mexico             871\n",
      "?                  573\n",
      "Name: native-country, dtype: int64 \n",
      "\n",
      "mode is 74.60131219769168 % of total\n",
      "<=50K    31155\n",
      ">50K     10607\n",
      "Name: income, dtype: int64\n"
     ]
    }
   ],
   "source": [
    "print(\"White categorical features : \\n\")  \n",
    "print(\"mode is\", 100*white_df[\"work-class\"].value_counts()[:3][0]/white_df.shape[0],\"% of total\")\n",
    "print(white_df[\"work-class\"].value_counts()[:3], \"\\n\")\n",
    "print(\"mode is\", 100*white_df[\"education\"].value_counts()[:3][0]/white_df.shape[0],\"% of total\")\n",
    "print(white_df[\"education\"].value_counts()[:3], \"\\n\")\n",
    "print(\"mode is\", 100*white_df[\"marital-status\"].value_counts()[:3][0]/white_df.shape[0],\"% of total\")\n",
    "print(white_df[\"marital-status\"].value_counts()[:3], \"\\n\")\n",
    "print(\"mode is\", 100*white_df[\"occupation\"].value_counts()[:3][0]/white_df.shape[0],\"% of total\")\n",
    "print(white_df[\"occupation\"].value_counts()[:3], \"\\n\")\n",
    "print(\"mode is\", 100*white_df[\"relationship\"].value_counts()[:3][0]/white_df.shape[0],\"% of total\")\n",
    "print(white_df[\"relationship\"].value_counts()[:3], \"\\n\")\n",
    "print(\"mode is\", 100*white_df[\"sex\"].value_counts()[:3][0]/white_df.shape[0],\"% of total\")\n",
    "print(white_df[\"sex\"].value_counts()[:3], \"\\n\")\n",
    "print(\"mode is\", 100*white_df[\"native-country\"].value_counts()[:3][0]/white_df.shape[0],\"% of total\")\n",
    "print(white_df[\"native-country\"].value_counts()[:3], \"\\n\")\n",
    "print(\"mode is\", 100*white_df[\"income\"].value_counts()[:3][0]/white_df.shape[0],\"% of total\")\n",
    "print(white_df[\"income\"].value_counts()[:3])"
   ]
  },
  {
   "cell_type": "code",
   "execution_count": 6,
   "id": "18a4a92b",
   "metadata": {},
   "outputs": [
    {
     "name": "stdout",
     "output_type": "stream",
     "text": [
      "Non white categorical features : \n",
      "\n",
      "mode is 68.954802259887 % of total\n",
      "Private      4882\n",
      "Local-gov     577\n",
      "?             488\n",
      "Name: work-class, dtype: int64 \n",
      "\n",
      "mode is 33.855932203389834 % of total\n",
      "HS-grad         2397\n",
      "Some-college    1589\n",
      "Bachelors        991\n",
      "Name: education, dtype: int64 \n",
      "\n",
      "mode is 40.94632768361582 % of total\n",
      "Never-married         2899\n",
      "Married-civ-spouse    2325\n",
      "Divorced               949\n",
      "Name: marital-status, dtype: int64 \n",
      "\n",
      "mode is 15.819209039548022 % of total\n",
      "Other-service     1120\n",
      "Adm-clerical      1033\n",
      "Prof-specialty     753\n",
      "Name: occupation, dtype: int64 \n",
      "\n",
      "mode is 26.242937853107346 % of total\n",
      "Husband          1858\n",
      "Not-in-family    1778\n",
      "Unmarried        1424\n",
      "Name: relationship, dtype: int64 \n",
      "\n",
      "mode is 55.29661016949152 % of total\n",
      "Male      3915\n",
      "Female    3165\n",
      "Name: sex, dtype: int64 \n",
      "\n",
      "mode is 75.409604519774 % of total\n",
      "United-States    5339\n",
      "?                 284\n",
      "Philippines       282\n",
      "Name: native-country, dtype: int64 \n",
      "\n",
      "mode is 84.7457627118644 % of total\n",
      "<=50K    6000\n",
      ">50K     1080\n",
      "Name: income, dtype: int64\n"
     ]
    }
   ],
   "source": [
    "print(\"Non white categorical features : \\n\")  \n",
    "print(\"mode is\", 100*non_white_df[\"work-class\"].value_counts()[:3][0]/non_white_df.shape[0],\"% of total\")\n",
    "print(non_white_df[\"work-class\"].value_counts()[:3], \"\\n\")\n",
    "print(\"mode is\", 100*non_white_df[\"education\"].value_counts()[:3][0]/non_white_df.shape[0],\"% of total\")\n",
    "print(non_white_df[\"education\"].value_counts()[:3], \"\\n\")\n",
    "print(\"mode is\", 100*non_white_df[\"marital-status\"].value_counts()[:3][0]/non_white_df.shape[0],\"% of total\")\n",
    "print(non_white_df[\"marital-status\"].value_counts()[:3], \"\\n\")\n",
    "print(\"mode is\", 100*non_white_df[\"occupation\"].value_counts()[:3][0]/non_white_df.shape[0],\"% of total\")\n",
    "print(non_white_df[\"occupation\"].value_counts()[:3], \"\\n\")\n",
    "print(\"mode is\", 100*non_white_df[\"relationship\"].value_counts()[:3][0]/non_white_df.shape[0],\"% of total\")\n",
    "print(non_white_df[\"relationship\"].value_counts()[:3], \"\\n\")\n",
    "print(\"mode is\", 100*non_white_df[\"sex\"].value_counts()[:3][0]/non_white_df.shape[0],\"% of total\")\n",
    "print(non_white_df[\"sex\"].value_counts()[:3], \"\\n\")\n",
    "print(\"mode is\", 100*non_white_df[\"native-country\"].value_counts()[:3][0]/non_white_df.shape[0],\"% of total\")\n",
    "print(non_white_df[\"native-country\"].value_counts()[:3], \"\\n\")\n",
    "print(\"mode is\", 100*non_white_df[\"income\"].value_counts()[:3][0]/non_white_df.shape[0],\"% of total\")\n",
    "print(non_white_df[\"income\"].value_counts()[:3])"
   ]
  },
  {
   "cell_type": "code",
   "execution_count": 7,
   "id": "914109f2",
   "metadata": {},
   "outputs": [
    {
     "name": "stdout",
     "output_type": "stream",
     "text": [
      "Male observations : 32650 ::: Female observations : 16192\n",
      "Male Numeric features :\n",
      "                age  education-num  capital-gain  capital-loss  hours-per-week\n",
      "count  32650.000000   32650.000000   32650.00000  32650.000000    32650.000000\n",
      "mean      39.494395      10.094977    1326.20830    100.409709       42.416845\n",
      "std       13.412850       2.660721    8367.78292    430.223459       12.120042\n",
      "Female Numeric features :\n",
      "                age  education-num  capital-gain  capital-loss  hours-per-week\n",
      "count  16192.000000   16192.000000  16192.000000  16192.000000    16192.000000\n",
      "mean      36.927989      10.044034    580.726285     61.475482       36.400692\n",
      "std       14.137423       2.379446   5094.230188    340.112027       11.948866\n"
     ]
    }
   ],
   "source": [
    "#sex analysis\n",
    "male_df = adult_df[adult_df.sex==\"Male\"].copy()\n",
    "female_df = adult_df[adult_df.sex==\"Female\"].copy()\n",
    "print(\"Male observations :\", male_df.shape[0], \"::: Female observations :\", female_df.shape[0])\n",
    "print(\"Male Numeric features :\")\n",
    "print(male_df[[\"age\", \"education-num\", \"capital-gain\", \"capital-loss\", \"hours-per-week\"]].describe()[:3])\n",
    "print(\"Female Numeric features :\")\n",
    "print(female_df[[\"age\", \"education-num\", \"capital-gain\", \"capital-loss\", \"hours-per-week\"]].describe()[:3])"
   ]
  },
  {
   "cell_type": "code",
   "execution_count": 8,
   "id": "6efc3f20",
   "metadata": {},
   "outputs": [
    {
     "name": "stdout",
     "output_type": "stream",
     "text": [
      "Male categorical features : \n",
      "\n",
      "mode is 68.32159264931087 % of total\n",
      "Private             22307\n",
      "Self-emp-not-inc     3233\n",
      "Local-gov            1878\n",
      "Name: work-class, dtype: int64 \n",
      "\n",
      "mode is 32.73200612557427 % of total\n",
      "HS-grad         10687\n",
      "Some-college     6700\n",
      "Bachelors        5548\n",
      "Name: education, dtype: int64 \n",
      "\n",
      "mode is 60.946401225114855 % of total\n",
      "Married-civ-spouse    19899\n",
      "Never-married          8899\n",
      "Divorced               2632\n",
      "Name: marital-status, dtype: int64 \n",
      "\n",
      "mode is 17.730474732006126 % of total\n",
      "Craft-repair       5789\n",
      "Exec-managerial    4338\n",
      "Prof-specialty     3930\n",
      "Name: occupation, dtype: int64 \n",
      "\n",
      "mode is 60.382848392036756 % of total\n",
      "Husband          19715\n",
      "Not-in-family     6713\n",
      "Own-child         4205\n",
      "Name: relationship, dtype: int64 \n",
      "\n",
      "mode is 88.00918836140889 % of total\n",
      "White                 28735\n",
      "Black                  2377\n",
      "Asian-Pac-Islander     1002\n",
      "Name: race, dtype: int64 \n",
      "\n",
      "mode is 89.50382848392037 % of total\n",
      "United-States    29223\n",
      "Mexico             736\n",
      "?                  609\n",
      "Name: native-country, dtype: int64\n",
      "mode is 69.62327718223584 % of total\n",
      "<=50K    22732\n",
      ">50K      9918\n",
      "Name: income, dtype: int64\n"
     ]
    }
   ],
   "source": [
    "print(\"Male categorical features : \\n\")  \n",
    "print(\"mode is\", 100*male_df[\"work-class\"].value_counts()[:3][0]/male_df.shape[0],\"% of total\")\n",
    "print(male_df[\"work-class\"].value_counts()[:3], \"\\n\")\n",
    "print(\"mode is\", 100*male_df[\"education\"].value_counts()[:3][0]/male_df.shape[0],\"% of total\")\n",
    "print(male_df[\"education\"].value_counts()[:3], \"\\n\")\n",
    "print(\"mode is\", 100*male_df[\"marital-status\"].value_counts()[:3][0]/male_df.shape[0],\"% of total\")\n",
    "print(male_df[\"marital-status\"].value_counts()[:3], \"\\n\")\n",
    "print(\"mode is\", 100*male_df[\"occupation\"].value_counts()[:3][0]/male_df.shape[0],\"% of total\")\n",
    "print(male_df[\"occupation\"].value_counts()[:3], \"\\n\")\n",
    "print(\"mode is\", 100*male_df[\"relationship\"].value_counts()[:3][0]/male_df.shape[0],\"% of total\")\n",
    "print(male_df[\"relationship\"].value_counts()[:3], \"\\n\")\n",
    "print(\"mode is\", 100*male_df[\"race\"].value_counts()[:3][0]/male_df.shape[0],\"% of total\")\n",
    "print(male_df[\"race\"].value_counts()[:3], \"\\n\")\n",
    "print(\"mode is\", 100*male_df[\"native-country\"].value_counts()[:3][0]/male_df.shape[0],\"% of total\")\n",
    "print(male_df[\"native-country\"].value_counts()[:3])\n",
    "print(\"mode is\", 100*male_df[\"income\"].value_counts()[:3][0]/male_df.shape[0],\"% of total\")\n",
    "print(male_df[\"income\"].value_counts()[:3])"
   ]
  },
  {
   "cell_type": "code",
   "execution_count": 9,
   "id": "b35ade09",
   "metadata": {},
   "outputs": [
    {
     "name": "stdout",
     "output_type": "stream",
     "text": [
      "Female categorical features : \n",
      "\n",
      "mode is 71.63414031620553 % of total\n",
      "Private      11599\n",
      "?             1270\n",
      "Local-gov     1258\n",
      "Name: work-class, dtype: int64 \n",
      "\n",
      "mode is 31.47850790513834 % of total\n",
      "HS-grad         5097\n",
      "Some-college    4178\n",
      "Bachelors       2477\n",
      "Name: education, dtype: int64 \n",
      "\n",
      "mode is 44.577569169960476 % of total\n",
      "Never-married         7218\n",
      "Divorced              4001\n",
      "Married-civ-spouse    2480\n",
      "Name: marital-status, dtype: int64 \n",
      "\n",
      "mode is 23.276926877470355 % of total\n",
      "Adm-clerical      3769\n",
      "Other-service     2698\n",
      "Prof-specialty    2242\n",
      "Name: occupation, dtype: int64 \n",
      "\n",
      "mode is 36.25247035573123 % of total\n",
      "Not-in-family    5870\n",
      "Unmarried        3928\n",
      "Own-child        3376\n",
      "Name: relationship, dtype: int64 \n",
      "\n",
      "mode is 80.45331027667984 % of total\n",
      "White                 13027\n",
      "Black                  2308\n",
      "Asian-Pac-Islander      517\n",
      "Name: race, dtype: int64 \n",
      "\n",
      "mode is 90.22356719367589 % of total\n",
      "United-States    14609\n",
      "?                  248\n",
      "Mexico             215\n",
      "Name: native-country, dtype: int64\n",
      "mode is 89.07485177865613 % of total\n",
      "<=50K    14423\n",
      ">50K      1769\n",
      "Name: income, dtype: int64\n"
     ]
    }
   ],
   "source": [
    "print(\"Female categorical features : \\n\")  \n",
    "print(\"mode is\", 100*female_df[\"work-class\"].value_counts()[:3][0]/female_df.shape[0],\"% of total\")\n",
    "print(female_df[\"work-class\"].value_counts()[:3], \"\\n\")\n",
    "print(\"mode is\", 100*female_df[\"education\"].value_counts()[:3][0]/female_df.shape[0],\"% of total\")\n",
    "print(female_df[\"education\"].value_counts()[:3], \"\\n\")\n",
    "print(\"mode is\", 100*female_df[\"marital-status\"].value_counts()[:3][0]/female_df.shape[0],\"% of total\")\n",
    "print(female_df[\"marital-status\"].value_counts()[:3], \"\\n\")\n",
    "print(\"mode is\", 100*female_df[\"occupation\"].value_counts()[:3][0]/female_df.shape[0],\"% of total\")\n",
    "print(female_df[\"occupation\"].value_counts()[:3], \"\\n\")\n",
    "print(\"mode is\", 100*female_df[\"relationship\"].value_counts()[:3][0]/female_df.shape[0],\"% of total\")\n",
    "print(female_df[\"relationship\"].value_counts()[:3], \"\\n\")\n",
    "print(\"mode is\", 100*female_df[\"race\"].value_counts()[:3][0]/female_df.shape[0],\"% of total\")\n",
    "print(female_df[\"race\"].value_counts()[:3], \"\\n\")\n",
    "print(\"mode is\", 100*female_df[\"native-country\"].value_counts()[:3][0]/female_df.shape[0],\"% of total\")\n",
    "print(female_df[\"native-country\"].value_counts()[:3])\n",
    "print(\"mode is\", 100*female_df[\"income\"].value_counts()[:3][0]/female_df.shape[0],\"% of total\")\n",
    "print(female_df[\"income\"].value_counts()[:3])"
   ]
  },
  {
   "cell_type": "code",
   "execution_count": 10,
   "id": "3dd5c5f7",
   "metadata": {},
   "outputs": [
    {
     "name": "stdout",
     "output_type": "stream",
     "text": [
      "Female non-white numeric features :\n",
      "               age  education-num  capital-gain  capital-loss  hours-per-week\n",
      "count  3165.000000    3165.000000   3165.000000   3165.000000     3165.000000\n",
      "mean     37.113428       9.718167    522.729858     49.786414       37.079305\n",
      "std      12.751543       2.395384   5523.258763    301.970065       10.292822\n",
      "Male white numeric features :\n",
      "                age  education-num  capital-gain  capital-loss  hours-per-week\n",
      "count  28735.000000   28735.000000  28735.000000  28735.000000    28735.000000\n",
      "mean      39.704507      10.133461   1364.602192    102.975152       42.665947\n",
      "std       13.475250       2.650503   8495.541557    435.672999       12.209256 \n",
      "\n",
      "Female non-white incomes: \n",
      "mode is 92.82780410742497 % of total\n",
      "<=50K    2938\n",
      ">50K      227\n",
      "Name: income, dtype: int64 \n",
      "\n",
      "Male white incomes: \n",
      "mode is 68.4531059683313 % of total\n",
      "<=50K    19670\n",
      ">50K      9065\n",
      "Name: income, dtype: int64\n"
     ]
    }
   ],
   "source": [
    "#race/sex analysis\n",
    "m_female_df = female_df[female_df.race != \"White\"]\n",
    "nm_male_df = male_df[male_df.race==\"White\"]\n",
    "print(\"Female non-white numeric features :\")\n",
    "print(m_female_df[[\"age\", \"education-num\", \"capital-gain\", \"capital-loss\", \"hours-per-week\"]].describe()[:3])\n",
    "print(\"Male white numeric features :\")\n",
    "print(nm_male_df[[\"age\", \"education-num\", \"capital-gain\", \"capital-loss\", \"hours-per-week\"]].describe()[:3], \"\\n\")\n",
    "print(\"Female non-white incomes: \")\n",
    "print(\"mode is\", 100*m_female_df[\"income\"].value_counts()[:3][0]/m_female_df.shape[0],\"% of total\")\n",
    "print(m_female_df[\"income\"].value_counts()[:3], \"\\n\")\n",
    "print(\"Male white incomes: \")\n",
    "print(\"mode is\", 100*nm_male_df[\"income\"].value_counts()[:3][0]/nm_male_df.shape[0],\"% of total\")\n",
    "print(nm_male_df[\"income\"].value_counts()[:3])"
   ]
  },
  {
   "cell_type": "code",
   "execution_count": 11,
   "id": "08ed1801",
   "metadata": {},
   "outputs": [],
   "source": [
    "###PRE-PROCESSING\n",
    "#drop non-orderable categorical variables which can't be used in the repair process\n",
    "adult_df.drop([\"education\", \"work-class\", \"marital-status\", \"occupation\", \"relationship\", \"native-country\"], \n",
    "              axis=1, inplace=True)"
   ]
  },
  {
   "cell_type": "code",
   "execution_count": 12,
   "id": "e9409dc9",
   "metadata": {},
   "outputs": [
    {
     "name": "stdout",
     "output_type": "stream",
     "text": [
      "Number of missing values: \n",
      "age               0\n",
      "fnlwgt            0\n",
      "education-num     0\n",
      "race              0\n",
      "sex               0\n",
      "capital-gain      0\n",
      "capital-loss      0\n",
      "hours-per-week    0\n",
      "income            0\n",
      "dtype: int64\n"
     ]
    }
   ],
   "source": [
    "#print number missing values \n",
    "print(\"Number of missing values: \")\n",
    "print(adult_df.isnull().sum().sort_values(ascending=False))"
   ]
  },
  {
   "cell_type": "code",
   "execution_count": 13,
   "id": "37783561",
   "metadata": {},
   "outputs": [
    {
     "name": "stdout",
     "output_type": "stream",
     "text": [
      "<class 'pandas.core.frame.DataFrame'>\n",
      "RangeIndex: 48842 entries, 0 to 48841\n",
      "Data columns (total 9 columns):\n",
      " #   Column          Non-Null Count  Dtype \n",
      "---  ------          --------------  ----- \n",
      " 0   age             48842 non-null  int64 \n",
      " 1   fnlwgt          48842 non-null  int64 \n",
      " 2   education-num   48842 non-null  int64 \n",
      " 3   race            48842 non-null  object\n",
      " 4   sex             48842 non-null  object\n",
      " 5   capital-gain    48842 non-null  int64 \n",
      " 6   capital-loss    48842 non-null  int64 \n",
      " 7   hours-per-week  48842 non-null  int64 \n",
      " 8   income          48842 non-null  object\n",
      "dtypes: int64(6), object(3)\n",
      "memory usage: 3.4+ MB\n",
      "None\n"
     ]
    }
   ],
   "source": [
    "print(adult_df.info())"
   ]
  },
  {
   "cell_type": "code",
   "execution_count": 14,
   "id": "781fbe0a",
   "metadata": {
    "scrolled": true
   },
   "outputs": [
    {
     "name": "stdout",
     "output_type": "stream",
     "text": [
      "    race     sex income\n",
      "0  White    Male  <=50K\n",
      "1  White    Male  <=50K\n",
      "2  White    Male  <=50K\n",
      "3  Black    Male  <=50K\n",
      "4  Black  Female  <=50K\n"
     ]
    }
   ],
   "source": [
    "print(adult_df[[\"race\", \"sex\", \"income\"]].head())"
   ]
  },
  {
   "cell_type": "code",
   "execution_count": 15,
   "id": "bf483d51",
   "metadata": {
    "scrolled": true
   },
   "outputs": [
    {
     "name": "stdout",
     "output_type": "stream",
     "text": [
      "   race  sex  income\n",
      "0     1    1       0\n",
      "1     1    1       0\n",
      "2     1    1       0\n",
      "3     0    1       0\n",
      "4     0    0       0\n"
     ]
    }
   ],
   "source": [
    "#encode categorical variables\n",
    "adult_df = adult_df.replace(\"Male\", 1)\n",
    "adult_df = adult_df.replace(\"Female\", 0)\n",
    "adult_df = adult_df.replace(\"<=50K\", 0)\n",
    "adult_df = adult_df.replace(\">50K\", 1)\n",
    "adult_df = adult_df.replace(\"White\", 1)\n",
    "adult_df[\"race\"] = adult_df[\"race\"].replace(to_replace=r\"[^0-1]\", value=0, regex=True)\n",
    "\n",
    "print(adult_df[[\"race\", \"sex\", \"income\"]].head())"
   ]
  },
  {
   "cell_type": "code",
   "execution_count": 16,
   "id": "f064e7ae",
   "metadata": {},
   "outputs": [
    {
     "name": "stdout",
     "output_type": "stream",
     "text": [
      "(48842, 8) (48842,)\n"
     ]
    }
   ],
   "source": [
    "x_all = adult_df[[\"age\", \"fnlwgt\", \"education-num\",  \"race\", \"sex\", \"capital-gain\", \"capital-loss\", \"hours-per-week\"]]\n",
    "y_all = adult_df[\"income\"]\n",
    "print(x_all.shape, y_all.shape)"
   ]
  },
  {
   "cell_type": "code",
   "execution_count": 17,
   "id": "c74142f8",
   "metadata": {},
   "outputs": [
    {
     "name": "stdout",
     "output_type": "stream",
     "text": [
      "(33212, 6) (33212,) (7327, 6) (7327,) (8303, 6) (8303,)\n"
     ]
    }
   ],
   "source": [
    "#split dataset into train, test and validation sets\n",
    "from sklearn.model_selection import train_test_split\n",
    "\n",
    "x_train_test, x_validation, y_train_test, y_validation = train_test_split(x_all, y_all, test_size=0.15, random_state=0)\n",
    "\n",
    "train_X, test_X, train_y, test_y = train_test_split(x_train_test, y_train_test, test_size=0.2, random_state=0)\n",
    "\n",
    "#don't use race and sex to train model\n",
    "race_sex_df = test_X[[\"race\", \"sex\"]].copy()\n",
    "\n",
    "train_X = train_X.drop([\"race\", \"sex\"], axis=1)\n",
    "test_X = test_X.drop([\"race\", \"sex\"], axis=1)\n",
    "\n",
    "x_validation = x_validation.drop([\"race\", \"sex\"], axis=1)\n",
    "\n",
    "print(train_X.shape, train_y.shape, x_validation.shape, y_validation.shape, test_X.shape, test_y.shape)"
   ]
  },
  {
   "cell_type": "code",
   "execution_count": 18,
   "id": "4ca45d59",
   "metadata": {
    "scrolled": true
   },
   "outputs": [],
   "source": [
    "###HYPERPARAMETER TUNING AND CONVENTIONAL MODEL\n",
    "#logistic model hyperparameter tuning\n",
    "from sklearn.linear_model import LogisticRegression\n",
    "from sklearn.model_selection import RepeatedStratifiedKFold\n",
    "from sklearn.model_selection import GridSearchCV\n",
    "\n",
    "#model to tune hyperparameters\n",
    "logistic_model = LogisticRegression(max_iter=10000)\n",
    "\n",
    "#hyperparameters to test for logistic regression\n",
    "log_solvers = [\"liblinear\", \"lbfgs\"] #newton-cg solver provides good accuracy scores but does not converge\n",
    "c__nos = [0.01, 0.1, 1.0, 10, 100]\n",
    "my_penalty = [\"l2\"]\n",
    "\n",
    "#logistic regression testing for best hyperparameters\n",
    "log_search = dict(C=c__nos, solver=log_solvers, penalty=my_penalty)\n",
    "reg_K_Fold = RepeatedStratifiedKFold(n_splits=10,random_state=0, n_repeats=3)\n",
    "log_grid_search = GridSearchCV(estimator=logistic_model, param_grid=log_search, n_jobs=-1, cv=reg_K_Fold, \n",
    "                               scoring='accuracy', error_score=0)\n",
    "log_grid_result = log_grid_search.fit(x_validation, y_validation)"
   ]
  },
  {
   "cell_type": "code",
   "execution_count": 19,
   "id": "71874a8d",
   "metadata": {},
   "outputs": [
    {
     "name": "stdout",
     "output_type": "stream",
     "text": [
      "0.802510 (0.008366) with: {'C': 0.01, 'penalty': 'l2', 'solver': 'liblinear'}\n",
      "0.802692 (0.008729) with: {'C': 0.01, 'penalty': 'l2', 'solver': 'lbfgs'}\n",
      "0.802919 (0.008679) with: {'C': 0.1, 'penalty': 'l2', 'solver': 'liblinear'}\n",
      "0.802692 (0.008729) with: {'C': 0.1, 'penalty': 'l2', 'solver': 'lbfgs'}\n",
      "0.802555 (0.008478) with: {'C': 1.0, 'penalty': 'l2', 'solver': 'liblinear'}\n",
      "0.802692 (0.008729) with: {'C': 1.0, 'penalty': 'l2', 'solver': 'lbfgs'}\n",
      "0.802692 (0.008476) with: {'C': 10, 'penalty': 'l2', 'solver': 'liblinear'}\n",
      "0.802692 (0.008729) with: {'C': 10, 'penalty': 'l2', 'solver': 'lbfgs'}\n",
      "0.802874 (0.008578) with: {'C': 100, 'penalty': 'l2', 'solver': 'liblinear'}\n",
      "0.802692 (0.008729) with: {'C': 100, 'penalty': 'l2', 'solver': 'lbfgs'}\n"
     ]
    }
   ],
   "source": [
    "means = log_grid_result.cv_results_['mean_test_score']\n",
    "stds = log_grid_result.cv_results_['std_test_score']\n",
    "params = log_grid_result.cv_results_['params']\n",
    "for mean, stdev, param in zip(means, stds, params):\n",
    "    print(\"%f (%f) with: %r\" % (mean, stdev, param))"
   ]
  },
  {
   "cell_type": "code",
   "execution_count": 20,
   "id": "662bb516",
   "metadata": {
    "scrolled": true
   },
   "outputs": [
    {
     "name": "stdout",
     "output_type": "stream",
     "text": [
      "best logistic regression hyperparams:  {'C': 0.1, 'penalty': 'l2', 'solver': 'liblinear'}\n",
      "accuracy:  0.8029191733947622\n",
      "standard deviation:  0.00867852371497968\n"
     ]
    }
   ],
   "source": [
    "print(\"best logistic regression hyperparams: \", log_grid_result.best_params_)\n",
    "print(\"accuracy: \", log_grid_result.best_score_)\n",
    "print(\"standard deviation: \", log_grid_result.cv_results_['std_test_score'][log_grid_result.best_index_])"
   ]
  },
  {
   "cell_type": "code",
   "execution_count": 21,
   "id": "0c45daa0",
   "metadata": {},
   "outputs": [
    {
     "name": "stdout",
     "output_type": "stream",
     "text": [
      "logistic regression model accuracy score on training set:  0.7967300975551006\n",
      "logistic regression model accuracy score on test set:  0.7962182343731181\n"
     ]
    }
   ],
   "source": [
    "#logistic regression model conventional implementation\n",
    "logistic_regression_model = LogisticRegression(C=0.1, penalty=\"l2\", solver=\"liblinear\", max_iter=10000)\n",
    "logistic_regression_model.fit(train_X, train_y)\n",
    "\n",
    "logistic_y_pred = logistic_regression_model.predict(test_X)\n",
    "pred_train = logistic_regression_model.predict(train_X)\n",
    "\n",
    "from sklearn.metrics import accuracy_score\n",
    "\n",
    "print(\"logistic regression model accuracy score on training set: \", accuracy_score(train_y, pred_train))\n",
    "print(\"logistic regression model accuracy score on test set: \", accuracy_score(test_y, logistic_y_pred))"
   ]
  },
  {
   "cell_type": "code",
   "execution_count": 22,
   "id": "c180b6fd",
   "metadata": {
    "scrolled": true
   },
   "outputs": [
    {
     "data": {
      "image/png": "[encoded data removed]",
      "text/plain": [
       "<Figure size 432x288 with 2 Axes>"
      ]
     },
     "metadata": {
      "needs_background": "light"
     },
     "output_type": "display_data"
    },
    {
     "name": "stdout",
     "output_type": "stream",
     "text": [
      "model utility:  0.6114838604713243\n"
     ]
    }
   ],
   "source": [
    "from sklearn.metrics import confusion_matrix\n",
    "import seaborn as sns\n",
    "\n",
    "#logistic regression confusion matrix\n",
    "log_matrix = confusion_matrix(test_y, logistic_y_pred)\n",
    "\n",
    "sns.heatmap(log_matrix, fmt=\"\", annot=True)\n",
    "plt.xlabel(\"Predicted\")\n",
    "plt.ylabel(\"Actual\")\n",
    "plt.title('Logistic regression')\n",
    "plt.show()\n",
    "\n",
    "#calculate utility (1 - balanced error rate)\n",
    "TN, FP = log_matrix[0][0], log_matrix[0][1]\n",
    "FN, TP = log_matrix[1][0], log_matrix[1][1]\n",
    "BER = 0.5 * ((FN / (FN + TP)) + (FP/(FP + TN)))\n",
    "utility = 1 - BER\n",
    "print(\"model utility: \", utility)"
   ]
  },
  {
   "cell_type": "code",
   "execution_count": 23,
   "id": "61c38d47",
   "metadata": {},
   "outputs": [],
   "source": [
    "#add race and sex back in after training\n",
    "test_X = pd.concat([test_X, race_sex_df], axis=1)\n",
    "\n",
    "#reindex\n",
    "test_X.index = np.arange(len(test_X))\n",
    "test_y.index = np.arange(len(test_y))"
   ]
  },
  {
   "cell_type": "code",
   "execution_count": 24,
   "id": "848994ed",
   "metadata": {},
   "outputs": [
    {
     "name": "stdout",
     "output_type": "stream",
     "text": [
      "race :\n",
      "priveleged samples:  7088          posotive:  628\n",
      "non-priveleged samples:  1215      posotive:  69 \n",
      "\n",
      "race zemel fairness:  0.9681896719895215 \n",
      "\n",
      "race disparate impact:  0.6409687819454274 \n",
      "\n",
      "sex :\n",
      "priveleged samples:  5485          posotive:  539\n",
      "non-priveleged samples:  2818      posotive:  158 \n",
      "\n",
      "sex zemel fairness:  0.957800129781655 \n",
      "\n",
      "sex disparate impact:  0.5705634728244482 \n",
      "\n"
     ]
    }
   ],
   "source": [
    "#calculate zemel fairness and disparate impact for race and sex\n",
    "\n",
    "p_attr = [\"race\", \"sex\"]\n",
    "\n",
    "for attr in p_attr:\n",
    "    white_test_samples = 0\n",
    "    white_pos_samples = 0\n",
    "    non_white_test_samples = 0\n",
    "    non_white_pos_samples = 0\n",
    "    for index, row in test_X.iterrows():\n",
    "        if row[attr] == 1:\n",
    "            white_test_samples += 1\n",
    "            if logistic_y_pred[index] == 1:\n",
    "                white_pos_samples += 1\n",
    "        elif row[attr] == 0:\n",
    "            non_white_test_samples += 1\n",
    "            if logistic_y_pred[index] == 1:\n",
    "                non_white_pos_samples += 1\n",
    "        else:\n",
    "            print(\"Invalid\")\n",
    "    \n",
    "    print(attr, \":\")\n",
    "    print(\"priveleged samples: \", white_test_samples, \"         posotive: \", white_pos_samples)\n",
    "    print(\"non-priveleged samples: \", non_white_test_samples, \"     posotive: \", non_white_pos_samples, \"\\n\")\n",
    "\n",
    "    pr_white_pos = white_pos_samples/white_test_samples\n",
    "    pr_non_white_pos = non_white_pos_samples/non_white_test_samples\n",
    "    zemel_fairness = pr_white_pos - pr_non_white_pos\n",
    "    disparate_impact = pr_non_white_pos/pr_white_pos\n",
    "    print(attr, \"zemel fairness: \", 1 - zemel_fairness, \"\\n\")\n",
    "    print(attr, \"disparate impact: \", disparate_impact, \"\\n\")"
   ]
  },
  {
   "cell_type": "code",
   "execution_count": 25,
   "id": "d13dacdf",
   "metadata": {},
   "outputs": [
    {
     "name": "stdout",
     "output_type": "stream",
     "text": [
      "race and sex:\n",
      "priveleged samples:  4822         posotive:  494\n",
      "non-priveleged samples:  552      posotive:  24 \n",
      "\n",
      "race and sex zemel fairness:  0.9410311434908841 \n",
      "\n",
      "race and sex disparate impact:  0.4243971131842985 \n",
      "\n"
     ]
    }
   ],
   "source": [
    "#calculate zemel fairness and disparate impact for race and sex together\n",
    "white_male_samples = 0\n",
    "white_male_pos = 0\n",
    "non_white_female_s = 0\n",
    "non_white_pos = 0\n",
    "\n",
    "for index, row in test_X.iterrows():\n",
    "    if row[\"sex\"] == 1 and row[\"race\"] == 1:\n",
    "        white_male_samples += 1\n",
    "        if logistic_y_pred[index] == 1:\n",
    "            white_male_pos += 1\n",
    "    elif row[\"sex\"] == 0 and row[\"race\"] == 0:\n",
    "        non_white_female_s += 1\n",
    "        if logistic_y_pred[index] == 1:\n",
    "            non_white_pos += 1\n",
    "    \n",
    "print(\"race and sex:\")\n",
    "print(\"priveleged samples: \", white_male_samples, \"        posotive: \", white_male_pos)\n",
    "print(\"non-priveleged samples: \", non_white_female_s, \"     posotive: \", non_white_pos, \"\\n\")\n",
    "\n",
    "pr_white_pos = white_male_pos/white_male_samples\n",
    "pr_non_white_pos = non_white_pos/non_white_female_s\n",
    "zemel_fairness = pr_white_pos - pr_non_white_pos\n",
    "disparate_impact = pr_non_white_pos/pr_white_pos\n",
    " \n",
    "print(\"race and sex zemel fairness: \", 1 - zemel_fairness, \"\\n\")\n",
    "print(\"race and sex disparate impact: \", disparate_impact, \"\\n\")"
   ]
  },
  {
   "cell_type": "code",
   "execution_count": 26,
   "id": "15c789f4",
   "metadata": {},
   "outputs": [
    {
     "name": "stdout",
     "output_type": "stream",
     "text": [
      "size of smallest group (non-white females):  3165\n",
      "sizes of resampled df's:  3165 3165 3165 3165\n",
      "size of final equal df:  12660\n"
     ]
    }
   ],
   "source": [
    "###LOGISTIC REGRESSION ON BALANCED DATASET WITH EQUAL NUMBERS OF ENTRIES FROM EACH PROTECTED GROUP\n",
    "#create balanced dataset\n",
    "from sklearn.utils import resample\n",
    "\n",
    "w_male_df = adult_df[adult_df.race == 1]\n",
    "w_male_df = w_male_df[w_male_df.sex==1]\n",
    "w_female_df = adult_df[adult_df.race == 1]\n",
    "w_female_df = w_female_df[w_female_df.sex==0]\n",
    "nw_male_df = adult_df[adult_df.race == 0]\n",
    "nw_male_df = nw_male_df[nw_male_df.sex==1]\n",
    "nw_female_df = adult_df[adult_df.race == 0]\n",
    "nw_female_df = nw_female_df[nw_female_df.sex==0]\n",
    "\n",
    "print(\"size of smallest group (non-white females): \", nw_female_df.shape[0])\n",
    "\n",
    "#resample dataframes of other groups to make them the same size as the smallest group\n",
    "w_male_df = resample(w_male_df, n_samples=nw_female_df.shape[0], replace=False, random_state=0)\n",
    "w_female_df = resample(w_female_df, n_samples=nw_female_df.shape[0], replace=False, random_state=0)\n",
    "nw_male_df = resample(nw_male_df, n_samples=nw_female_df.shape[0], replace=False, random_state=0)\n",
    "\n",
    "print(\"sizes of resampled df's: \", w_male_df.shape[0], nw_female_df.shape[0], nw_male_df.shape[0], nw_female_df.shape[0])\n",
    "\n",
    "equal_df = pd.concat([w_male_df, w_female_df, nw_male_df, nw_female_df], axis=0)\n",
    "\n",
    "print(\"size of final equal df: \", equal_df.shape[0])"
   ]
  },
  {
   "cell_type": "code",
   "execution_count": 27,
   "id": "8a43cb15",
   "metadata": {},
   "outputs": [
    {
     "name": "stdout",
     "output_type": "stream",
     "text": [
      "(12660, 8) (12660,)\n"
     ]
    }
   ],
   "source": [
    "x_all = equal_df[[\"age\", \"fnlwgt\", \"education-num\",  \"race\", \"sex\", \"capital-gain\", \"capital-loss\", \"hours-per-week\"]]\n",
    "y_all = equal_df[\"income\"]\n",
    "print(x_all.shape, y_all.shape)"
   ]
  },
  {
   "cell_type": "code",
   "execution_count": 28,
   "id": "21879631",
   "metadata": {},
   "outputs": [
    {
     "name": "stdout",
     "output_type": "stream",
     "text": [
      "(8862, 6) (8862,) (3798, 6) (3798,)\n"
     ]
    }
   ],
   "source": [
    "#split into train and test sets\n",
    "from sklearn.model_selection import train_test_split\n",
    "\n",
    "train_X, test_X, train_y, test_y = train_test_split(x_all, y_all, test_size=0.3, random_state=0)\n",
    "\n",
    "race_sex_df = test_X[[\"race\", \"sex\"]].copy()\n",
    "\n",
    "train_X = train_X.drop([\"race\", \"sex\"], axis=1)\n",
    "test_X = test_X.drop([\"race\", \"sex\"], axis=1)\n",
    "\n",
    "print(train_X.shape, train_y.shape, test_X.shape, test_y.shape)"
   ]
  },
  {
   "cell_type": "code",
   "execution_count": 29,
   "id": "01e4f7fc",
   "metadata": {},
   "outputs": [
    {
     "name": "stdout",
     "output_type": "stream",
     "text": [
      "logistic regression model accuracy score on training set:  0.8486797562626947\n",
      "logistic regression model accuracy score on test set:  0.8475513428120063\n"
     ]
    }
   ],
   "source": [
    "#logistic regression model conventional implementation\n",
    "logistic_regression_model = LogisticRegression(C=0.1, penalty=\"l2\", solver=\"liblinear\", max_iter=10000)\n",
    "logistic_regression_model.fit(train_X, train_y)\n",
    "\n",
    "logistic_y_pred = logistic_regression_model.predict(test_X)\n",
    "pred_train = logistic_regression_model.predict(train_X)\n",
    "\n",
    "from sklearn.metrics import accuracy_score\n",
    "\n",
    "print(\"logistic regression model accuracy score on training set: \", accuracy_score(train_y, pred_train))\n",
    "print(\"logistic regression model accuracy score on test set: \", accuracy_score(test_y, logistic_y_pred))"
   ]
  },
  {
   "cell_type": "code",
   "execution_count": 30,
   "id": "17c73eec",
   "metadata": {},
   "outputs": [
    {
     "data": {
      "image/png": "[encoded data removed]",
      "text/plain": [
       "<Figure size 432x288 with 2 Axes>"
      ]
     },
     "metadata": {
      "needs_background": "light"
     },
     "output_type": "display_data"
    },
    {
     "name": "stdout",
     "output_type": "stream",
     "text": [
      "model utility:  0.6156609934183463\n"
     ]
    }
   ],
   "source": [
    "#logistic regression confusion matrix\n",
    "log_matrix = confusion_matrix(test_y, logistic_y_pred)\n",
    "\n",
    "sns.heatmap(log_matrix, fmt=\"\", annot=True)\n",
    "plt.xlabel(\"Predicted\")\n",
    "plt.ylabel(\"Actual\")\n",
    "plt.title('Logistic regression')\n",
    "plt.show()\n",
    "\n",
    "#calculate utility (1 - balanced error rate)\n",
    "TN, FP = log_matrix[0][0], log_matrix[0][1]\n",
    "FN, TP = log_matrix[1][0], log_matrix[1][1]\n",
    "BER = 0.5 * ((FN / (FN + TP)) + (FP/(FP + TN)))\n",
    "utility = 1 - BER\n",
    "print(\"model utility: \", utility)"
   ]
  },
  {
   "cell_type": "code",
   "execution_count": 31,
   "id": "fcad8a51",
   "metadata": {},
   "outputs": [],
   "source": [
    "#add race and sex back in\n",
    "test_X = pd.concat([test_X, race_sex_df], axis=1)\n",
    "#reindex\n",
    "test_X.index = np.arange(len(test_X))\n",
    "test_y.index = np.arange(len(test_y))"
   ]
  },
  {
   "cell_type": "code",
   "execution_count": 32,
   "id": "5c6fc33f",
   "metadata": {},
   "outputs": [
    {
     "name": "stdout",
     "output_type": "stream",
     "text": [
      "race :\n",
      "priveleged samples:  1868          posotive:  138\n",
      "non-priveleged samples:  1930      posotive:  85 \n",
      "\n",
      "race zemel fairness:  0.9701656477793434 \n",
      "\n",
      "race disparate impact:  0.5961552902305324 \n",
      "\n",
      "sex :\n",
      "priveleged samples:  1921          posotive:  139\n",
      "non-priveleged samples:  1877      posotive:  84 \n",
      "\n",
      "sex zemel fairness:  0.9723941174529227 \n",
      "\n",
      "sex disparate impact:  0.6184827311299602 \n",
      "\n"
     ]
    }
   ],
   "source": [
    "#calculate zemel fairness and disparate impact for race and sex\n",
    "\n",
    "p_attr = [\"race\", \"sex\"]\n",
    "\n",
    "for attr in p_attr:\n",
    "    white_test_samples = 0\n",
    "    white_pos_samples = 0\n",
    "    non_white_test_samples = 0\n",
    "    non_white_pos_samples = 0\n",
    "    for index, row in test_X.iterrows():\n",
    "        if row[attr] == 1:\n",
    "            white_test_samples += 1\n",
    "            if logistic_y_pred[index] == 1:\n",
    "                white_pos_samples += 1\n",
    "        elif row[attr] == 0:\n",
    "            non_white_test_samples += 1\n",
    "            if logistic_y_pred[index] == 1:\n",
    "                non_white_pos_samples += 1\n",
    "    \n",
    "    print(attr, \":\")\n",
    "    print(\"priveleged samples: \", white_test_samples, \"         posotive: \", white_pos_samples)\n",
    "    print(\"non-priveleged samples: \", non_white_test_samples, \"     posotive: \", non_white_pos_samples, \"\\n\")\n",
    "\n",
    "    pr_white_pos = white_pos_samples/white_test_samples\n",
    "    pr_non_white_pos = non_white_pos_samples/non_white_test_samples\n",
    "    zemel_fairness = pr_white_pos - pr_non_white_pos\n",
    "    disparate_impact = pr_non_white_pos/pr_white_pos\n",
    "    #print(\"\\n\")\n",
    "    print(attr, \"zemel fairness: \", 1 - zemel_fairness, \"\\n\")\n",
    "    print(attr, \"disparate impact: \", disparate_impact, \"\\n\")"
   ]
  },
  {
   "cell_type": "code",
   "execution_count": 33,
   "id": "b7942b41",
   "metadata": {},
   "outputs": [
    {
     "name": "stdout",
     "output_type": "stream",
     "text": [
      "race and sex:\n",
      "priveleged samples:  930         posotive:  83\n",
      "non-priveleged samples:  939      posotive:  29 \n",
      "\n",
      "race and sex zemel fairness:  0.9416366072348759 \n",
      "\n",
      "race and sex disparate impact:  0.3460487316678856 \n",
      "\n"
     ]
    }
   ],
   "source": [
    "#calculate zemel fairness and disparate impact for race and sex togther\n",
    "white_male_samples = 0\n",
    "white_male_pos = 0\n",
    "non_white_female_s = 0\n",
    "non_white_pos = 0\n",
    "\n",
    "for index, row in test_X.iterrows():\n",
    "    if row[\"sex\"] == 1 and row[\"race\"] == 1:\n",
    "        white_male_samples += 1\n",
    "        if logistic_y_pred[index] == 1:\n",
    "            white_male_pos += 1\n",
    "    elif row[\"sex\"] == 0 and row[\"race\"] == 0:\n",
    "        non_white_female_s += 1\n",
    "        if logistic_y_pred[index] == 1:\n",
    "            non_white_pos += 1\n",
    "    \n",
    "print(\"race and sex:\")\n",
    "print(\"priveleged samples: \", white_male_samples, \"        posotive: \", white_male_pos)\n",
    "print(\"non-priveleged samples: \", non_white_female_s, \"     posotive: \", non_white_pos, \"\\n\")\n",
    "\n",
    "pr_white_pos = white_male_pos/white_male_samples\n",
    "pr_non_white_pos = non_white_pos/non_white_female_s\n",
    "zemel_fairness = pr_white_pos - pr_non_white_pos\n",
    "disparate_impact = pr_non_white_pos/pr_white_pos\n",
    " \n",
    "print(\"race and sex zemel fairness: \", 1 - zemel_fairness, \"\\n\")\n",
    "print(\"race and sex disparate impact: \", disparate_impact, \"\\n\")"
   ]
  }
 ],
 "metadata": {
  "kernelspec": {
   "display_name": "Python 3",
   "language": "python",
   "name": "python3"
  },
  "language_info": {
   "codemirror_mode": {
    "name": "ipython",
    "version": 3
   },
   "file_extension": ".py",
   "mimetype": "text/x-python",
   "name": "python",
   "nbconvert_exporter": "python",
   "pygments_lexer": "ipython3",
   "version": "3.9.4"
  }
 },
 "nbformat": 4,
 "nbformat_minor": 5
}

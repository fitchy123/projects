{
 "cells": [
  {
   "cell_type": "code",
   "execution_count": 1,
   "id": "6cb879cc",
   "metadata": {},
   "outputs": [],
   "source": [
    "#open file and import important libraries\n",
    "#import tarfile\n",
    "import os.path\n",
    "import pandas as pd\n",
    "import numpy as np\n",
    "import matplotlib.pyplot as plt\n",
    "%matplotlib inline\n",
    "\n",
    "if os.path.isfile(\"adult-all.csv\"):\n",
    "    adult_df = pd.read_csv(\"adult-all.csv\", names=[\"age\", \"work-class\", \"fnlwgt\", \"education\", \"education-num\", \n",
    "                            \"marital-status\", \"occupation\", \"relationship\", \"race\", \"sex\", \"capital-gain\", \"capital-loss\",\n",
    "                            \"hours-per-week\", \"native-country\", \"income\"], na_values = \" ?\", low_memory=False)\n",
    "else:\n",
    "    print(\"Cannot find file\")\n",
    "    exit()"
   ]
  },
  {
   "cell_type": "code",
   "execution_count": 2,
   "id": "72a95e52",
   "metadata": {},
   "outputs": [],
   "source": [
    "###PRE-PROCESSING\n",
    "#drop non-orderable categorical variables which can't be used in the repair process\n",
    "adult_df.drop([\"education\", \"work-class\", \"marital-status\", \"occupation\", \"relationship\", \"native-country\"], \n",
    "              axis=1, inplace=True)"
   ]
  },
  {
   "cell_type": "code",
   "execution_count": 3,
   "id": "fb458648",
   "metadata": {},
   "outputs": [
    {
     "name": "stdout",
     "output_type": "stream",
     "text": [
      "    race   sex  age\n",
      "0  White  Male   39\n"
     ]
    }
   ],
   "source": [
    "print(adult_df[[\"race\", \"sex\", \"age\"]].head(1))"
   ]
  },
  {
   "cell_type": "code",
   "execution_count": 4,
   "id": "3ed2fac1",
   "metadata": {},
   "outputs": [
    {
     "name": "stdout",
     "output_type": "stream",
     "text": [
      "   race  sex  income\n",
      "0     1    1       0\n"
     ]
    }
   ],
   "source": [
    "#encode categorical variables\n",
    "adult_df = adult_df.replace(\"Male\", 1)\n",
    "adult_df = adult_df.replace(\"Female\", 0)\n",
    "adult_df = adult_df.replace(\"<=50K\", 0)\n",
    "adult_df = adult_df.replace(\">50K\", 1)\n",
    "adult_df = adult_df.replace(\"White\", 1)\n",
    "adult_df[\"race\"] = adult_df[\"race\"].replace(to_replace=r\"[^0-1]\", value=0, regex=True)\n",
    "\n",
    "print(adult_df[[\"race\", \"sex\", \"income\"]].head(1))"
   ]
  },
  {
   "cell_type": "code",
   "execution_count": 5,
   "id": "c010bca2",
   "metadata": {
    "scrolled": true
   },
   "outputs": [
    {
     "name": "stdout",
     "output_type": "stream",
     "text": [
      "<class 'pandas.core.frame.DataFrame'>\n",
      "RangeIndex: 48842 entries, 0 to 48841\n",
      "Data columns (total 9 columns):\n",
      " #   Column          Non-Null Count  Dtype\n",
      "---  ------          --------------  -----\n",
      " 0   age             48842 non-null  int64\n",
      " 1   fnlwgt          48842 non-null  int64\n",
      " 2   education-num   48842 non-null  int64\n",
      " 3   race            48842 non-null  int64\n",
      " 4   sex             48842 non-null  int64\n",
      " 5   capital-gain    48842 non-null  int64\n",
      " 6   capital-loss    48842 non-null  int64\n",
      " 7   hours-per-week  48842 non-null  int64\n",
      " 8   income          48842 non-null  int64\n",
      "dtypes: int64(9)\n",
      "memory usage: 3.4 MB\n",
      "None\n"
     ]
    }
   ],
   "source": [
    "print(adult_df.info())"
   ]
  },
  {
   "cell_type": "code",
   "execution_count": 6,
   "id": "e4e68d77",
   "metadata": {},
   "outputs": [
    {
     "name": "stdout",
     "output_type": "stream",
     "text": [
      "   race  sex\n",
      "0     1    1\n",
      "1     1    1\n",
      "2     1    1\n",
      "3     0    1\n",
      "4     0    0\n",
      "   white-male  white-female  non-white-male  non-white-female\n",
      "0         1.0           0.0             0.0               0.0\n",
      "1         1.0           0.0             0.0               0.0\n",
      "2         1.0           0.0             0.0               0.0\n",
      "3         0.0           0.0             1.0               0.0\n",
      "4         0.0           0.0             0.0               1.0\n"
     ]
    }
   ],
   "source": [
    "#create columns for each protected group\n",
    "new_col_names = [\"white-male\", \"white-female\", \"non-white-male\", \"non-white-female\"]\n",
    "new_cols = np.zeros((adult_df.shape[0], 4))\n",
    "white_male_age = []\n",
    "\n",
    "for index, row in adult_df.iterrows():\n",
    "    if row[\"race\"] == 1 and row[\"sex\"] == 1:\n",
    "        new_cols[index][0] = 1\n",
    "    elif row[\"race\"] == 1 and row[\"sex\"] == 0:\n",
    "        new_cols[index][1] = 1\n",
    "    elif row[\"race\"] == 0 and row[\"sex\"] == 1:\n",
    "        new_cols[index][2] = 1\n",
    "    elif row[\"race\"] == 0 and row[\"sex\"] == 0:\n",
    "        new_cols[index][3] = 1\n",
    "    else:\n",
    "        print(\"invalid\")\n",
    "        \n",
    "new_cols_df = pd.DataFrame(data=new_cols, columns = new_col_names)\n",
    "print(adult_df[[\"race\", \"sex\"]].head())\n",
    "print(new_cols_df.head())"
   ]
  },
  {
   "cell_type": "code",
   "execution_count": 7,
   "id": "eb082877",
   "metadata": {
    "scrolled": true
   },
   "outputs": [
    {
     "name": "stdout",
     "output_type": "stream",
     "text": [
      "   age  fnlwgt  education-num  race  sex  capital-gain  capital-loss  \\\n",
      "0   39   77516             13     1    1          2174             0   \n",
      "1   50   83311             13     1    1             0             0   \n",
      "2   38  215646              9     1    1             0             0   \n",
      "3   53  234721              7     0    1             0             0   \n",
      "4   28  338409             13     0    0             0             0   \n",
      "\n",
      "   hours-per-week  income  white-male  white-female  non-white-male  \\\n",
      "0              40       0         1.0           0.0             0.0   \n",
      "1              13       0         1.0           0.0             0.0   \n",
      "2              40       0         1.0           0.0             0.0   \n",
      "3              40       0         0.0           0.0             1.0   \n",
      "4              40       0         0.0           0.0             0.0   \n",
      "\n",
      "   non-white-female  \n",
      "0               0.0  \n",
      "1               0.0  \n",
      "2               0.0  \n",
      "3               0.0  \n",
      "4               1.0  \n"
     ]
    }
   ],
   "source": [
    "adult_df = pd.concat([adult_df, new_cols_df], axis=1)\n",
    "print(adult_df.head())"
   ]
  },
  {
   "cell_type": "code",
   "execution_count": 8,
   "id": "ae17ef9a",
   "metadata": {},
   "outputs": [
    {
     "name": "stdout",
     "output_type": "stream",
     "text": [
      "number of entries in sensitive groups:  28735 13027 3915 3165\n"
     ]
    }
   ],
   "source": [
    "#create dataframes for each sensitive group\n",
    "white_male_df = adult_df[adult_df[\"white-male\"] == 1]\n",
    "white_male_no = white_male_df.shape[0]\n",
    "white_female_df = adult_df[adult_df[\"white-female\"] == 1]\n",
    "white_female_no = white_female_df.shape[0]\n",
    "non_white_male_df = adult_df[adult_df[\"non-white-male\"] == 1]\n",
    "non_white_male_no = non_white_male_df.shape[0]\n",
    "non_white_female_df = adult_df[adult_df[\"non-white-female\"] == 1]\n",
    "non_white_female_no = non_white_female_df.shape[0]\n",
    "print(\"number of entries in sensitive groups: \", white_male_no, white_female_no, non_white_male_no, non_white_female_no)"
   ]
  },
  {
   "cell_type": "code",
   "execution_count": 9,
   "id": "6908c6e6",
   "metadata": {},
   "outputs": [],
   "source": [
    "#create sorted lists to be used in the repair process\n",
    "sorted_lists = {}\n",
    "sorted_indices = {}\n",
    "protected_lists = {}\n",
    "protected_lists_indices = {}\n",
    "columns = [\"age\", \"fnlwgt\", \"education-num\", \"capital-gain\", \"capital-loss\", \"hours-per-week\"]\n",
    "\n",
    "for column in columns:    \n",
    "    protected_list = {}\n",
    "    protected_list_indice = {}\n",
    "    wmdf_s = white_male_df[column].sort_values()\n",
    "    protected_list[\"white-male\"] = list(wmdf_s)\n",
    "    protected_list_indice[\"white-male\"] = list(wmdf_s.index.values)\n",
    "    wfdf_s = white_female_df[column].sort_values()\n",
    "    protected_list[\"white-female\"] = list(wfdf_s)\n",
    "    protected_list_indice[\"white-female\"] = list(wfdf_s.index.values)\n",
    "    nmdf_s = non_white_male_df[column].sort_values()\n",
    "    protected_list[\"non-white-male\"] = list(nmdf_s)\n",
    "    protected_list_indice[\"non-white-male\"] = list(nmdf_s.index.values)\n",
    "    nfdf_s = non_white_female_df[column].sort_values()\n",
    "    protected_list[\"non-white-female\"] = list(nfdf_s)\n",
    "    protected_list_indice[\"non-white-female\"] = list(nfdf_s.index.values)\n",
    "    \n",
    "    protected_lists[column] = protected_list\n",
    "    protected_lists_indices[column] = protected_list_indice\n",
    "    \n",
    "    sorted_list = []\n",
    "    sorted_indice = {}\n",
    "\n",
    "    sorted_list = list(adult_df[column])\n",
    "    sorted_list.sort()\n",
    "\n",
    "    sorted_list = list(dict.fromkeys(sorted_list))\n",
    "    sorted_lists[column] = sorted_list\n",
    "\n",
    "    ind = 0\n",
    "    for no in sorted_list:\n",
    "        sorted_indice[no] = ind\n",
    "        ind += 1\n",
    "\n",
    "    sorted_indices[column] = sorted_indice"
   ]
  },
  {
   "cell_type": "code",
   "execution_count": 10,
   "id": "66d29296",
   "metadata": {},
   "outputs": [
    {
     "name": "stdout",
     "output_type": "stream",
     "text": [
      "example entry before repair: \n",
      "age                     66.0\n",
      "fnlwgt              186061.0\n",
      "education-num           10.0\n",
      "race                     0.0\n",
      "sex                      0.0\n",
      "capital-gain             0.0\n",
      "capital-loss          4356.0\n",
      "hours-per-week          40.0\n",
      "income                   0.0\n",
      "white-male               0.0\n",
      "white-female             0.0\n",
      "non-white-male           0.0\n",
      "non-white-female         1.0\n",
      "Name: 30781, dtype: float64\n"
     ]
    }
   ],
   "source": [
    "print(\"example entry before repair: \")\n",
    "print(adult_df.iloc[30781])"
   ]
  },
  {
   "cell_type": "code",
   "execution_count": 11,
   "id": "99ef61f4",
   "metadata": {},
   "outputs": [],
   "source": [
    "def my_median(list_):\n",
    "    if len(list_) % 2 != 0:\n",
    "        index = int((len(list_) / 2) - 0.5)\n",
    "        return list_[index]\n",
    "    else:\n",
    "        index = int((len(list_)/2) - 1)\n",
    "        return list_[index]"
   ]
  },
  {
   "cell_type": "code",
   "execution_count": 12,
   "id": "95ff854d",
   "metadata": {},
   "outputs": [],
   "source": [
    "#implementation of the repair process \n",
    "lambda_ = 0.8   #how strongly to repair, between 0 and 1\n",
    "repair_type = \"combinatorial\"   #repair type, combinatorial or geometric\n",
    "number_quantiles = non_white_female_no\n",
    "columns = [\"age\", \"fnlwgt\", \"education-num\", \"capital-gain\", \"capital-loss\", \"hours-per-week\"]\n",
    "\n",
    "for column in columns:\n",
    "    i, j, k, l = 0, 0, 0, 0\n",
    "    white_male_quantiles = np.array_split(protected_lists[column][\"white-male\"], number_quantiles)\n",
    "    white_female_quantiles = np.array_split(protected_lists[column][\"white-female\"], number_quantiles)\n",
    "    non_white_male_quantiles = np.array_split(protected_lists[column][\"non-white-male\"], number_quantiles)\n",
    "    non_white_female_quantiles = np.array_split(protected_lists[column][\"non-white-female\"], number_quantiles)\n",
    "    \n",
    "    for quantile_num in range(number_quantiles):\n",
    "        median_list = []\n",
    "        white_male_median = my_median(white_male_quantiles[quantile_num])\n",
    "        median_list.append(white_male_median)\n",
    "        white_female_median = my_median(white_female_quantiles[quantile_num])\n",
    "        median_list.append(white_female_median)\n",
    "        non_white_male_median = my_median(non_white_male_quantiles[quantile_num])\n",
    "        median_list.append(non_white_male_median)\n",
    "        non_white_female_median = my_median(non_white_female_quantiles[quantile_num])\n",
    "        median_list.append(non_white_female_median)\n",
    "        \n",
    "        median_list.sort()\n",
    "        target = my_median(median_list)\n",
    "        index_target = sorted_indices[column][target]\n",
    "        \n",
    "        for value in white_male_quantiles[quantile_num]:\n",
    "            index_original = sorted_indices[column][value]\n",
    "            repair_index = int(index_original + (lambda_*(index_target - index_original)))\n",
    "            if repair_type == \"combinatorial\":\n",
    "                final_value = sorted_lists[column][repair_index]\n",
    "            else:\n",
    "                final_value = ((1-lambda_)*value) + (lambda_*target)\n",
    "            protected_lists[column][\"white-male\"][i] = final_value\n",
    "            i+=1\n",
    "\n",
    "        for value in white_female_quantiles[quantile_num]:\n",
    "            index_original = sorted_indices[column][value]\n",
    "            repair_index = int(index_original + (lambda_*(index_target - index_original)))\n",
    "            if repair_type == \"combinatorial\":\n",
    "                final_value = sorted_lists[column][repair_index]\n",
    "            else:\n",
    "                final_value = ((1-lambda_)*value) + (lambda_*target)\n",
    "            protected_lists[column][\"white-female\"][j] = final_value\n",
    "            j+=1\n",
    "            \n",
    "        for value in non_white_male_quantiles[quantile_num]:\n",
    "            index_original = sorted_indices[column][value]\n",
    "            repair_index = int(index_original + (lambda_*(index_target - index_original)))\n",
    "            if repair_type == \"combinatorial\":\n",
    "                final_value = sorted_lists[column][repair_index]\n",
    "            else:\n",
    "                final_value = ((1-lambda_)*value) + (lambda_*target)\n",
    "            protected_lists[column][\"non-white-male\"][k] = final_value\n",
    "            k+=1\n",
    "            \n",
    "        for value in non_white_female_quantiles[quantile_num]:\n",
    "            index_original = sorted_indices[column][value]\n",
    "            repair_index = int(index_original + (lambda_*(index_target - index_original)))\n",
    "            if repair_type == \"combinatorial\":\n",
    "                final_value = sorted_lists[column][repair_index]\n",
    "            else:\n",
    "                final_value = ((1-lambda_)*value) + (lambda_*target)\n",
    "            protected_lists[column][\"non-white-female\"][l] = final_value\n",
    "            l+=1\n",
    "            "
   ]
  },
  {
   "cell_type": "code",
   "execution_count": 13,
   "id": "be1bf6e8",
   "metadata": {
    "scrolled": false
   },
   "outputs": [
    {
     "name": "stdout",
     "output_type": "stream",
     "text": [
      "example column after repair: \n",
      "age                     67.0\n",
      "fnlwgt              185057.0\n",
      "education-num           10.0\n",
      "race                     0.0\n",
      "sex                      0.0\n",
      "capital-gain             0.0\n",
      "capital-loss          3175.0\n",
      "hours-per-week          40.0\n",
      "income                   0.0\n",
      "white-male               0.0\n",
      "white-female             0.0\n",
      "non-white-male           0.0\n",
      "non-white-female         1.0\n",
      "Name: 30781, dtype: float64\n"
     ]
    }
   ],
   "source": [
    "#apply repaired columns into original dataframe\n",
    "for column_ in protected_lists:\n",
    "    for key in protected_lists[column_]:\n",
    "        for i in range(len(protected_lists[column_][key])):\n",
    "            cell_index = protected_lists_indices[column_][key][i]\n",
    "            cell_value = protected_lists[column_][key][i]\n",
    "            adult_df.at[cell_index, column_] = cell_value\n",
    "\n",
    "print(\"example column after repair: \")\n",
    "print(adult_df.iloc[30781])"
   ]
  },
  {
   "cell_type": "code",
   "execution_count": 14,
   "id": "4818466b",
   "metadata": {},
   "outputs": [],
   "source": [
    "#drop sensitive columns after repair\n",
    "adult_df.drop([\"white-male\", \"white-female\", \"non-white-male\", \"non-white-female\"], axis=1, inplace=True)"
   ]
  },
  {
   "cell_type": "code",
   "execution_count": 15,
   "id": "a3d6713c",
   "metadata": {
    "scrolled": true
   },
   "outputs": [
    {
     "name": "stdout",
     "output_type": "stream",
     "text": [
      "<class 'pandas.core.frame.DataFrame'>\n",
      "RangeIndex: 48842 entries, 0 to 48841\n",
      "Data columns (total 9 columns):\n",
      " #   Column          Non-Null Count  Dtype\n",
      "---  ------          --------------  -----\n",
      " 0   age             48842 non-null  int64\n",
      " 1   fnlwgt          48842 non-null  int64\n",
      " 2   education-num   48842 non-null  int64\n",
      " 3   race            48842 non-null  int64\n",
      " 4   sex             48842 non-null  int64\n",
      " 5   capital-gain    48842 non-null  int64\n",
      " 6   capital-loss    48842 non-null  int64\n",
      " 7   hours-per-week  48842 non-null  int64\n",
      " 8   income          48842 non-null  int64\n",
      "dtypes: int64(9)\n",
      "memory usage: 3.4 MB\n",
      "None\n"
     ]
    }
   ],
   "source": [
    "print(adult_df.info())"
   ]
  },
  {
   "cell_type": "code",
   "execution_count": 16,
   "id": "a918910c",
   "metadata": {},
   "outputs": [
    {
     "name": "stdout",
     "output_type": "stream",
     "text": [
      "(48842, 8) (48842,)\n"
     ]
    }
   ],
   "source": [
    "x_all = adult_df[[\"age\", \"fnlwgt\", \"education-num\", \"capital-gain\", \"capital-loss\", \"hours-per-week\", \"race\", \"sex\"]]\n",
    "y_all = adult_df[\"income\"]\n",
    "print(x_all.shape, y_all.shape)"
   ]
  },
  {
   "cell_type": "code",
   "execution_count": 17,
   "id": "5ef0f211",
   "metadata": {},
   "outputs": [
    {
     "name": "stdout",
     "output_type": "stream",
     "text": [
      "(34189, 6) (34189,) (14653, 6) (14653,)\n"
     ]
    }
   ],
   "source": [
    "#split data into train and test set\n",
    "from sklearn.model_selection import train_test_split\n",
    "\n",
    "train_X, test_X, train_y, test_y = train_test_split(x_all, y_all, test_size=0.3, random_state=0)\n",
    "\n",
    "#don't use race and sex to train model\n",
    "race_sex_df = test_X[[\"race\", \"sex\"]].copy()\n",
    "\n",
    "train_X = train_X.drop([\"race\", \"sex\"], axis=1)\n",
    "test_X = test_X.drop([\"race\", \"sex\"], axis=1)\n",
    "\n",
    "print(train_X.shape, train_y.shape, test_X.shape, test_y.shape)"
   ]
  },
  {
   "cell_type": "code",
   "execution_count": 18,
   "id": "d8df8967",
   "metadata": {},
   "outputs": [
    {
     "name": "stdout",
     "output_type": "stream",
     "text": [
      "logistic regression model accuracy score on training set:  0.7952265348503905\n",
      "logistic regression model accuracy score on test set:  0.8015423462772129\n"
     ]
    }
   ],
   "source": [
    "###FAIR MODEL IMPLEMENTATION\n",
    "from sklearn.linear_model import LogisticRegression\n",
    "\n",
    "#logistic regression model conventional implementation\n",
    "logistic_regression_model = LogisticRegression(C=0.1, penalty=\"l2\", solver=\"liblinear\", max_iter=10000)\n",
    "logistic_regression_model.fit(train_X, train_y)\n",
    "\n",
    "logistic_y_pred = logistic_regression_model.predict(test_X)\n",
    "pred_train = logistic_regression_model.predict(train_X)\n",
    "\n",
    "from sklearn.metrics import accuracy_score\n",
    "\n",
    "print(\"logistic regression model accuracy score on training set: \", accuracy_score(train_y, pred_train))\n",
    "print(\"logistic regression model accuracy score on test set: \", accuracy_score(test_y, logistic_y_pred))"
   ]
  },
  {
   "cell_type": "code",
   "execution_count": 19,
   "id": "3bed9441",
   "metadata": {
    "scrolled": true
   },
   "outputs": [
    {
     "data": {
      "image/png": "[encoded data removed]",
      "text/plain": [
       "<Figure size 432x288 with 2 Axes>"
      ]
     },
     "metadata": {
      "needs_background": "light"
     },
     "output_type": "display_data"
    },
    {
     "name": "stdout",
     "output_type": "stream",
     "text": [
      "model utility:  0.6059597503206322\n"
     ]
    }
   ],
   "source": [
    "from sklearn.metrics import confusion_matrix\n",
    "import seaborn as sns\n",
    "\n",
    "#logistic regression confusion matrix\n",
    "log_matrix = confusion_matrix(test_y, logistic_y_pred)\n",
    "\n",
    "sns.heatmap(log_matrix, fmt=\"\", annot=True)\n",
    "plt.xlabel(\"Predicted\")\n",
    "plt.ylabel(\"Actual\")\n",
    "plt.title('Logistic regression')\n",
    "plt.show()\n",
    "\n",
    "#calculate utility (1 - balanced error rate)\n",
    "TN, FP = log_matrix[0][0], log_matrix[0][1]\n",
    "FN, TP = log_matrix[1][0], log_matrix[1][1]\n",
    "BER = 0.5 * ((FN / (FN + TP)) + (FP/(FP + TN)))\n",
    "utility = 1 - BER\n",
    "print(\"model utility: \", utility)"
   ]
  },
  {
   "cell_type": "code",
   "execution_count": 20,
   "id": "59e5a3ab",
   "metadata": {},
   "outputs": [],
   "source": [
    "#add race and sex back into dataframe\n",
    "test_X = pd.concat([test_X, race_sex_df], axis=1)\n",
    "\n",
    "#reindex\n",
    "test_X.index = np.arange(len(test_X))\n",
    "test_y.index = np.arange(len(test_y))"
   ]
  },
  {
   "cell_type": "code",
   "execution_count": 21,
   "id": "1acd2e0d",
   "metadata": {},
   "outputs": [
    {
     "name": "stdout",
     "output_type": "stream",
     "text": [
      "race :\n",
      "priveleged samples:  12580         posotive:  942\n",
      "non-priveleged samples:  2073      posotive:  143 \n",
      "\n",
      "race zemel fairness:  0.9941013883552404 \n",
      "\n",
      "race disparate impact:  0.921226608820514 \n",
      "\n",
      "sex :\n",
      "priveleged samples:  9780         posotive:  746\n",
      "non-priveleged samples:  4873      posotive:  339 \n",
      "\n",
      "sex zemel fairness:  0.9932888832375046 \n",
      "\n",
      "sex disparate impact:  0.9120177990117897 \n",
      "\n"
     ]
    }
   ],
   "source": [
    "#calculate zemel fairness and disparate impact for race and sex\n",
    "\n",
    "p_attr = [\"race\", \"sex\"]\n",
    "\n",
    "for attr in p_attr:\n",
    "    white_test_samples = 0\n",
    "    white_pos_samples = 0\n",
    "    non_white_test_samples = 0\n",
    "    non_white_pos_samples = 0\n",
    "    for index, row in test_X.iterrows():\n",
    "        if row[attr] == 1:\n",
    "            white_test_samples += 1\n",
    "            if logistic_y_pred[index] == 1:\n",
    "                white_pos_samples += 1\n",
    "        elif row[attr] == 0:\n",
    "            non_white_test_samples += 1\n",
    "            if logistic_y_pred[index] == 1:\n",
    "                non_white_pos_samples += 1\n",
    "        else:\n",
    "            print(\"Invalid\")\n",
    "    \n",
    "    print(attr, \":\")\n",
    "    print(\"priveleged samples: \", white_test_samples, \"        posotive: \", white_pos_samples)\n",
    "    print(\"non-priveleged samples: \", non_white_test_samples, \"     posotive: \", non_white_pos_samples, \"\\n\")\n",
    "\n",
    "    pr_white_pos = white_pos_samples/white_test_samples\n",
    "    pr_non_white_pos = non_white_pos_samples/non_white_test_samples\n",
    "    zemel_fairness = pr_white_pos - pr_non_white_pos\n",
    "    disparate_impact = pr_non_white_pos/pr_white_pos\n",
    "    if attr == \"race\":\n",
    "        race_zemel = 1 - zemel_fairness\n",
    "        race_DI = disparate_impact\n",
    "    else:\n",
    "        sex_zemel = 1 - zemel_fairness\n",
    "        sex_DI = disparate_impact\n",
    " \n",
    "    print(attr, \"zemel fairness: \", 1 - zemel_fairness, \"\\n\")\n",
    "    print(attr, \"disparate impact: \", disparate_impact, \"\\n\")"
   ]
  },
  {
   "cell_type": "code",
   "execution_count": 22,
   "id": "cb3348f1",
   "metadata": {},
   "outputs": [
    {
     "name": "stdout",
     "output_type": "stream",
     "text": [
      "race and sex zemel fairness:  0.9840213944774919 \n",
      "\n",
      "race and sex disparate impact:  0.7907239781261782 \n",
      " \n",
      "\n",
      "final fairness:  0.9325633420047864 (average of all fairness metrics)\n"
     ]
    }
   ],
   "source": [
    "white_male_samples = 0\n",
    "white_male_pos = 0\n",
    "non_white_female_s = 0\n",
    "non_white_pos = 0\n",
    "\n",
    "for index, row in test_X.iterrows():\n",
    "    if row[\"sex\"] == 1 and row[\"race\"] == 1:\n",
    "        white_male_samples += 1\n",
    "        if logistic_y_pred[index] == 1:\n",
    "            white_male_pos += 1\n",
    "    elif row[\"sex\"] == 0 and row[\"race\"] == 0:\n",
    "        non_white_female_s += 1\n",
    "        if logistic_y_pred[index] == 1:\n",
    "            non_white_pos += 1\n",
    "\n",
    "pr_white_pos = white_male_pos/white_male_samples\n",
    "pr_non_white_pos = non_white_pos/non_white_female_s\n",
    "zemel_fairness = pr_white_pos - pr_non_white_pos\n",
    "disparate_impact = pr_non_white_pos/pr_white_pos\n",
    "\n",
    "print(\"race and sex zemel fairness: \", 1 - zemel_fairness, \"\\n\")\n",
    "print(\"race and sex disparate impact: \", disparate_impact, \"\\n \\n\")\n",
    "fairness = ((1-zemel_fairness) + disparate_impact + race_zemel + race_DI + sex_zemel + sex_DI)/6\n",
    "print(\"final fairness: \", fairness, \"(average of all fairness metrics)\")"
   ]
  }
 ],
 "metadata": {
  "kernelspec": {
   "display_name": "Python 3",
   "language": "python",
   "name": "python3"
  },
  "language_info": {
   "codemirror_mode": {
    "name": "ipython",
    "version": 3
   },
   "file_extension": ".py",
   "mimetype": "text/x-python",
   "name": "python",
   "nbconvert_exporter": "python",
   "pygments_lexer": "ipython3",
   "version": "3.9.4"
  }
 },
 "nbformat": 4,
 "nbformat_minor": 5
}
